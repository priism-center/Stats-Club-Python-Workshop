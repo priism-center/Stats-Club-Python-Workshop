{
 "cells": [
  {
   "cell_type": "markdown",
   "metadata": {},
   "source": [
    "# Loading Libraries"
   ]
  },
  {
   "cell_type": "markdown",
   "metadata": {},
   "source": [
    "Once you have installed a package (easiest way is to use the command pip3 install package_name in the Console), you can load the library in your workspace as follows. Often, people use abbreviations for package names so that they can reference them more easily when calling functions. Note: if you installed Python using Anaconda, then you probably already have these packages installed."
   ]
  },
  {
   "cell_type": "code",
   "execution_count": 4,
   "metadata": {},
   "outputs": [],
   "source": [
    "import pandas as pd\n",
    "import numpy as np\n",
    "import matplotlib.pyplot as plt\n",
    "import patsy\n",
    "import statsmodels.api as sm\n",
    "import statsmodels.formula.api as smf\n",
    "#this last line will cause graphics to be printed in-line\n",
    "%matplotlib inline"
   ]
  },
  {
   "cell_type": "markdown",
   "metadata": {},
   "source": [
    "# NumPy\n",
    "Numpy is a library in Python that allows manipulation of vectors and arrays in a way that is more similar to R (so you can do element-wise operations, matrix math, etc.)"
   ]
  },
  {
   "cell_type": "markdown",
   "metadata": {},
   "source": [
    "## NumPy Arrays"
   ]
  },
  {
   "cell_type": "markdown",
   "metadata": {},
   "source": [
    "NumPy arrays are N-dimensional arrays that contain data. A one dimensional NumPy array is very similar to a Python list."
   ]
  },
  {
   "cell_type": "code",
   "execution_count": 7,
   "metadata": {},
   "outputs": [
    {
     "name": "stdout",
     "output_type": "stream",
     "text": [
      "[1 2 3]\n"
     ]
    }
   ],
   "source": [
    "#create a numpy array\n",
    "print(np.array([1,2,3]))"
   ]
  },
  {
   "cell_type": "code",
   "execution_count": 8,
   "metadata": {},
   "outputs": [
    {
     "name": "stdout",
     "output_type": "stream",
     "text": [
      "[22.26 22.63 21.11]\n"
     ]
    }
   ],
   "source": [
    "heights = [1.71, 1.62, 1.74]\n",
    "weights = [65.1, 59.4, 63.9]\n",
    "np_heights = np.array(heights)\n",
    "np_weights = np.array(weights)\n",
    "# note that we can do element-wise operations like R vectors\n",
    "# meanwhile, bmis = heights / weights ** 2 would throw an error\n",
    "bmis = np_weights / np_heights ** 2 #all good\n",
    "\n",
    "#print rounded bmis\n",
    "print(bmis.round(2))"
   ]
  },
  {
   "cell_type": "markdown",
   "metadata": {},
   "source": [
    "NumPy also allows you to subset using conditionals, like in R"
   ]
  },
  {
   "cell_type": "code",
   "execution_count": 10,
   "metadata": {},
   "outputs": [
    {
     "name": "stdout",
     "output_type": "stream",
     "text": [
      "[False False False  True  True]\n",
      "[4 5]\n"
     ]
    }
   ],
   "source": [
    "numbers = [1,2,3,4,5]\n",
    "np_numbers = np.array(numbers)\n",
    "print(np_numbers > 3)\n",
    "print(np_numbers[np_numbers > 3])"
   ]
  },
  {
   "cell_type": "markdown",
   "metadata": {},
   "source": [
    "Here is an example of a 2-D NumPy array"
   ]
  },
  {
   "cell_type": "code",
   "execution_count": 12,
   "metadata": {},
   "outputs": [
    {
     "name": "stdout",
     "output_type": "stream",
     "text": [
      "[[ 1  2  3  4  5]\n",
      " [10  9  8  7  6]]\n",
      "(2, 5)\n"
     ]
    }
   ],
   "source": [
    "np_2d = np.array([[1,2,3,4,5],\n",
    "                  [10,9,8,7,6]])\n",
    "print(np_2d)"
   ]
  },
  {
   "cell_type": "code",
   "execution_count": 15,
   "metadata": {},
   "outputs": [
    {
     "name": "stdout",
     "output_type": "stream",
     "text": [
      "(2, 5)\n",
      "2\n",
      "5\n"
     ]
    }
   ],
   "source": [
    "#note: shape is an attribute, not a method\n",
    "#gives number of rows, then columns\n",
    "print(np_2d.shape)\n",
    "\n",
    "nrow, ncol = np_2d.shape\n",
    "print(nrow)\n",
    "print(ncol)"
   ]
  },
  {
   "cell_type": "markdown",
   "metadata": {},
   "source": [
    "### Subsetting a (2D) NumPy Array"
   ]
  },
  {
   "cell_type": "code",
   "execution_count": 16,
   "metadata": {},
   "outputs": [
    {
     "name": "stdout",
     "output_type": "stream",
     "text": [
      "[1 2 3 4 5]\n",
      "2\n",
      "2\n",
      "[2 9]\n",
      "[[2 3]\n",
      " [9 8]]\n",
      "[1 2 3 4 5]\n"
     ]
    }
   ],
   "source": [
    "print(np_2d[0]) #first row\n",
    "print(np_2d[0][1]) #first row, second column\n",
    "print(np_2d[0,1]) #same thing\n",
    "\n",
    "#other examples:\n",
    "print(np_2d[:,1]) #second column\n",
    "print(np_2d[:,1:3]) #all rows, columns 2-3\n",
    "print(np_2d[0,:]) #row 1, all columns"
   ]
  },
  {
   "cell_type": "markdown",
   "metadata": {},
   "source": [
    "### Basic Summary Stats from NumPy Arrays"
   ]
  },
  {
   "cell_type": "code",
   "execution_count": 17,
   "metadata": {},
   "outputs": [
    {
     "name": "stdout",
     "output_type": "stream",
     "text": [
      "3.0\n",
      "5.5\n"
     ]
    }
   ],
   "source": [
    "#mean and median\n",
    "print(np.mean(np_2d[0,:])) #mean of first row\n",
    "print(np.median(np_2d[:,1])) #median of second column"
   ]
  },
  {
   "cell_type": "markdown",
   "metadata": {},
   "source": [
    "# Pandas\n",
    "Pandas is another Python library that was built to work on-top of NumPy, which provides a dataframe object, like in R"
   ]
  },
  {
   "cell_type": "markdown",
   "metadata": {},
   "source": [
    "### Pandas DataFrame\n",
    "\n",
    "You can create a data frame in Pandas using a dictionary object as follows:  "
   ]
  },
  {
   "cell_type": "code",
   "execution_count": 2,
   "metadata": {},
   "outputs": [],
   "source": [
    "#First, load pandas as \"pd\"\n",
    "import pandas as pd"
   ]
  },
  {
   "cell_type": "code",
   "execution_count": 3,
   "metadata": {},
   "outputs": [
    {
     "name": "stdout",
     "output_type": "stream",
     "text": [
      "         borough      pop  sq_miles\n",
      "0      The Bronx  1432132        42\n",
      "1       Brooklyn  2582830        71\n",
      "2      Manhattan  1628701        23\n",
      "3         Queens  2278906       109\n",
      "4  Staten Island   476179        58\n"
     ]
    }
   ],
   "source": [
    "borough = ['The Bronx', 'Brooklyn', 'Manhattan', 'Queens', 'Staten Island']\n",
    "population =  [1432132, 2582830, 1628701, 2278906, 476179]\n",
    "sq_miles = [42, 71, 23, 109, 58]\n",
    "dict = { 'borough':borough, 'pop':population, 'sq_miles':sq_miles }\n",
    "nyc = pd.DataFrame(dict)\n",
    "print(nyc)"
   ]
  }
 ],
 "metadata": {
  "kernelspec": {
   "display_name": "Python 3",
   "language": "python",
   "name": "python3"
  },
  "language_info": {
   "codemirror_mode": {
    "name": "ipython",
    "version": 3
   },
   "file_extension": ".py",
   "mimetype": "text/x-python",
   "name": "python",
   "nbconvert_exporter": "python",
   "pygments_lexer": "ipython3",
   "version": "3.7.4"
  }
 },
 "nbformat": 4,
 "nbformat_minor": 2
}
