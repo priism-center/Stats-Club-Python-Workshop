{
 "cells": [
  {
   "cell_type": "markdown",
   "metadata": {},
   "source": [
    "# Loading Libraries"
   ]
  },
  {
   "cell_type": "markdown",
   "metadata": {},
   "source": [
    "Once you have installed a package (easiest way is to use the command pip3 install package_name in the Console), you can load the library in your workspace as follows. Often, people use abbreviations for package names so that they can reference them more easily when calling functions. Note: if you installed Python using Anaconda, then you probably already have these packages installed."
   ]
  },
  {
   "cell_type": "code",
   "execution_count": 2,
   "metadata": {},
   "outputs": [],
   "source": [
    "import pandas as pd\n",
    "import numpy as np\n",
    "import matplotlib.pyplot as plt\n",
    "import patsy\n",
    "import statsmodels.api as sm\n",
    "import statsmodels.formula.api as smf\n",
    "#this last line will cause graphics to be printed in-line\n",
    "%matplotlib inline"
   ]
  },
  {
   "cell_type": "markdown",
   "metadata": {},
   "source": [
    "# NumPy\n",
    "Numpy is a library in Python that allows manipulation of vectors and arrays in a way that is more similar to R (so you can do element-wise operations, matrix math, etc.)"
   ]
  },
  {
   "cell_type": "markdown",
   "metadata": {},
   "source": [
    "## NumPy Arrays"
   ]
  },
  {
   "cell_type": "markdown",
   "metadata": {},
   "source": [
    "NumPy arrays are N-dimensional arrays that contain data. A one dimensional NumPy array is very similar to a Python list."
   ]
  },
  {
   "cell_type": "code",
   "execution_count": 7,
   "metadata": {},
   "outputs": [
    {
     "name": "stdout",
     "output_type": "stream",
     "text": [
      "[1 2 3]\n"
     ]
    }
   ],
   "source": [
    "#create a numpy array\n",
    "print(np.array([1,2,3]))"
   ]
  },
  {
   "cell_type": "code",
   "execution_count": 8,
   "metadata": {},
   "outputs": [
    {
     "name": "stdout",
     "output_type": "stream",
     "text": [
      "[22.26 22.63 21.11]\n"
     ]
    }
   ],
   "source": [
    "heights = [1.71, 1.62, 1.74]\n",
    "weights = [65.1, 59.4, 63.9]\n",
    "np_heights = np.array(heights)\n",
    "np_weights = np.array(weights)\n",
    "# note that we can do element-wise operations like R vectors\n",
    "# meanwhile, bmis = heights / weights ** 2 would throw an error\n",
    "bmis = np_weights / np_heights ** 2 #all good\n",
    "\n",
    "#print rounded bmis\n",
    "print(bmis.round(2))"
   ]
  },
  {
   "cell_type": "markdown",
   "metadata": {},
   "source": [
    "NumPy also allows you to subset using conditionals, like in R"
   ]
  },
  {
   "cell_type": "code",
   "execution_count": 10,
   "metadata": {},
   "outputs": [
    {
     "name": "stdout",
     "output_type": "stream",
     "text": [
      "[False False False  True  True]\n",
      "[4 5]\n"
     ]
    }
   ],
   "source": [
    "numbers = [1,2,3,4,5]\n",
    "np_numbers = np.array(numbers)\n",
    "print(np_numbers > 3)\n",
    "print(np_numbers[np_numbers > 3])"
   ]
  },
  {
   "cell_type": "markdown",
   "metadata": {},
   "source": [
    "Here is an example of a 2-D NumPy array"
   ]
  },
  {
   "cell_type": "code",
   "execution_count": 12,
   "metadata": {},
   "outputs": [
    {
     "name": "stdout",
     "output_type": "stream",
     "text": [
      "[[ 1  2  3  4  5]\n",
      " [10  9  8  7  6]]\n",
      "(2, 5)\n"
     ]
    }
   ],
   "source": [
    "np_2d = np.array([[1,2,3,4,5],\n",
    "                  [10,9,8,7,6]])\n",
    "print(np_2d)"
   ]
  },
  {
   "cell_type": "code",
   "execution_count": 15,
   "metadata": {},
   "outputs": [
    {
     "name": "stdout",
     "output_type": "stream",
     "text": [
      "(2, 5)\n",
      "2\n",
      "5\n"
     ]
    }
   ],
   "source": [
    "#note: shape is an attribute, not a method\n",
    "#gives number of rows, then columns\n",
    "print(np_2d.shape)\n",
    "\n",
    "nrow, ncol = np_2d.shape\n",
    "print(nrow)\n",
    "print(ncol)"
   ]
  },
  {
   "cell_type": "markdown",
   "metadata": {},
   "source": [
    "### Subsetting a (2D) NumPy Array"
   ]
  },
  {
   "cell_type": "code",
   "execution_count": 16,
   "metadata": {},
   "outputs": [
    {
     "name": "stdout",
     "output_type": "stream",
     "text": [
      "[1 2 3 4 5]\n",
      "2\n",
      "2\n",
      "[2 9]\n",
      "[[2 3]\n",
      " [9 8]]\n",
      "[1 2 3 4 5]\n"
     ]
    }
   ],
   "source": [
    "print(np_2d[0]) #first row\n",
    "print(np_2d[0][1]) #first row, second column\n",
    "print(np_2d[0,1]) #same thing\n",
    "\n",
    "#other examples:\n",
    "print(np_2d[:,1]) #second column\n",
    "print(np_2d[:,1:3]) #all rows, columns 2-3\n",
    "print(np_2d[0,:]) #row 1, all columns"
   ]
  },
  {
   "cell_type": "markdown",
   "metadata": {},
   "source": [
    "### Basic Summary Stats from NumPy Arrays"
   ]
  },
  {
   "cell_type": "code",
   "execution_count": 17,
   "metadata": {},
   "outputs": [
    {
     "name": "stdout",
     "output_type": "stream",
     "text": [
      "3.0\n",
      "5.5\n"
     ]
    }
   ],
   "source": [
    "#mean and median\n",
    "print(np.mean(np_2d[0,:])) #mean of first row\n",
    "print(np.median(np_2d[:,1])) #median of second column"
   ]
  },
  {
   "cell_type": "markdown",
   "metadata": {},
   "source": [
    "# Pandas\n",
    "Pandas is another Python library that was built to work on-top of NumPy, which provides a dataframe object, like in R"
   ]
  },
  {
   "cell_type": "markdown",
   "metadata": {},
   "source": [
    "### Pandas DataFrame\n",
    "\n",
    "You can create a data frame in Pandas using a dictionary object as follows:  "
   ]
  },
  {
   "cell_type": "code",
   "execution_count": 2,
   "metadata": {},
   "outputs": [],
   "source": [
    "#First, load pandas as \"pd\"\n",
    "import pandas as pd"
   ]
  },
  {
   "cell_type": "code",
   "execution_count": 72,
   "metadata": {},
   "outputs": [
    {
     "name": "stdout",
     "output_type": "stream",
     "text": [
      "         borough      pop  sq_miles\n",
      "0      The Bronx  1432132        42\n",
      "1       Brooklyn  2582830        71\n",
      "2      Manhattan  1628701        23\n",
      "3         Queens  2278906       109\n",
      "4  Staten Island   476179        58\n"
     ]
    }
   ],
   "source": [
    "borough = ['The Bronx', 'Brooklyn', 'Manhattan', 'Queens', 'Staten Island']\n",
    "population =  [1432132, 2582830, 1628701, 2278906, 476179]\n",
    "sq_miles = [42, 71, 23, 109, 58]\n",
    "dict = { 'borough':borough, 'pop':population, 'sq_miles':sq_miles }\n",
    "nyc = pd.DataFrame(dict)\n",
    "print(nyc)"
   ]
  },
  {
   "cell_type": "code",
   "execution_count": 73,
   "metadata": {},
   "outputs": [
    {
     "name": "stdout",
     "output_type": "stream",
     "text": [
      "0        The Bronx\n",
      "1         Brooklyn\n",
      "2        Manhattan\n",
      "3           Queens\n",
      "4    Staten Island\n",
      "Name: borough, dtype: object\n",
      "0        The Bronx\n",
      "1         Brooklyn\n",
      "2        Manhattan\n",
      "3           Queens\n",
      "4    Staten Island\n",
      "Name: borough, dtype: object\n"
     ]
    }
   ],
   "source": [
    "#two different ways to access the borough column:\n",
    "print(nyc['borough'])\n",
    "print(nyc.borough)"
   ]
  },
  {
   "cell_type": "code",
   "execution_count": 74,
   "metadata": {},
   "outputs": [],
   "source": [
    "#create a new column: density, which is pop/sq_mi\n",
    "nyc['density'] = round(nyc['pop']/nyc['sq_miles'])"
   ]
  },
  {
   "cell_type": "code",
   "execution_count": 75,
   "metadata": {},
   "outputs": [
    {
     "name": "stdout",
     "output_type": "stream",
     "text": [
      "                   pop  sq_miles  density\n",
      "borough                                  \n",
      "The Bronx      1432132        42  34098.0\n",
      "Brooklyn       2582830        71  36378.0\n",
      "Manhattan      1628701        23  70813.0\n",
      "Queens         2278906       109  20907.0\n",
      "Staten Island   476179        58   8210.0\n"
     ]
    }
   ],
   "source": [
    "#set borough column to be the row name\n",
    "nyc = nyc.set_index('borough')\n",
    "print(nyc)"
   ]
  },
  {
   "cell_type": "markdown",
   "metadata": {},
   "source": [
    "We can now access specific rows and columns using either their names and the .loc( ) method, or their index and the .iloc( ) method as follows: "
   ]
  },
  {
   "cell_type": "code",
   "execution_count": 76,
   "metadata": {},
   "outputs": [
    {
     "data": {
      "text/plain": [
       "borough\n",
       "The Bronx        1432132\n",
       "Brooklyn         2582830\n",
       "Manhattan        1628701\n",
       "Queens           2278906\n",
       "Staten Island     476179\n",
       "Name: pop, dtype: int64"
      ]
     },
     "execution_count": 76,
     "metadata": {},
     "output_type": "execute_result"
    }
   ],
   "source": [
    "#pop column, all rows\n",
    "nyc.loc[:,'pop']"
   ]
  },
  {
   "cell_type": "code",
   "execution_count": 77,
   "metadata": {},
   "outputs": [
    {
     "data": {
      "text/html": [
       "<div>\n",
       "<style scoped>\n",
       "    .dataframe tbody tr th:only-of-type {\n",
       "        vertical-align: middle;\n",
       "    }\n",
       "\n",
       "    .dataframe tbody tr th {\n",
       "        vertical-align: top;\n",
       "    }\n",
       "\n",
       "    .dataframe thead th {\n",
       "        text-align: right;\n",
       "    }\n",
       "</style>\n",
       "<table border=\"1\" class=\"dataframe\">\n",
       "  <thead>\n",
       "    <tr style=\"text-align: right;\">\n",
       "      <th></th>\n",
       "      <th>pop</th>\n",
       "      <th>sq_miles</th>\n",
       "    </tr>\n",
       "    <tr>\n",
       "      <th>borough</th>\n",
       "      <th></th>\n",
       "      <th></th>\n",
       "    </tr>\n",
       "  </thead>\n",
       "  <tbody>\n",
       "    <tr>\n",
       "      <td>The Bronx</td>\n",
       "      <td>1432132</td>\n",
       "      <td>42</td>\n",
       "    </tr>\n",
       "    <tr>\n",
       "      <td>Brooklyn</td>\n",
       "      <td>2582830</td>\n",
       "      <td>71</td>\n",
       "    </tr>\n",
       "    <tr>\n",
       "      <td>Manhattan</td>\n",
       "      <td>1628701</td>\n",
       "      <td>23</td>\n",
       "    </tr>\n",
       "    <tr>\n",
       "      <td>Queens</td>\n",
       "      <td>2278906</td>\n",
       "      <td>109</td>\n",
       "    </tr>\n",
       "    <tr>\n",
       "      <td>Staten Island</td>\n",
       "      <td>476179</td>\n",
       "      <td>58</td>\n",
       "    </tr>\n",
       "  </tbody>\n",
       "</table>\n",
       "</div>"
      ],
      "text/plain": [
       "                   pop  sq_miles\n",
       "borough                         \n",
       "The Bronx      1432132        42\n",
       "Brooklyn       2582830        71\n",
       "Manhattan      1628701        23\n",
       "Queens         2278906       109\n",
       "Staten Island   476179        58"
      ]
     },
     "execution_count": 77,
     "metadata": {},
     "output_type": "execute_result"
    }
   ],
   "source": [
    "#pop and sq_miles column, all rows\n",
    "nyc.loc[:,('pop','sq_miles')]"
   ]
  },
  {
   "cell_type": "code",
   "execution_count": 78,
   "metadata": {},
   "outputs": [
    {
     "data": {
      "text/html": [
       "<div>\n",
       "<style scoped>\n",
       "    .dataframe tbody tr th:only-of-type {\n",
       "        vertical-align: middle;\n",
       "    }\n",
       "\n",
       "    .dataframe tbody tr th {\n",
       "        vertical-align: top;\n",
       "    }\n",
       "\n",
       "    .dataframe thead th {\n",
       "        text-align: right;\n",
       "    }\n",
       "</style>\n",
       "<table border=\"1\" class=\"dataframe\">\n",
       "  <thead>\n",
       "    <tr style=\"text-align: right;\">\n",
       "      <th></th>\n",
       "      <th>pop</th>\n",
       "      <th>sq_miles</th>\n",
       "    </tr>\n",
       "    <tr>\n",
       "      <th>borough</th>\n",
       "      <th></th>\n",
       "      <th></th>\n",
       "    </tr>\n",
       "  </thead>\n",
       "  <tbody>\n",
       "    <tr>\n",
       "      <td>Brooklyn</td>\n",
       "      <td>2582830</td>\n",
       "      <td>71</td>\n",
       "    </tr>\n",
       "    <tr>\n",
       "      <td>Manhattan</td>\n",
       "      <td>1628701</td>\n",
       "      <td>23</td>\n",
       "    </tr>\n",
       "  </tbody>\n",
       "</table>\n",
       "</div>"
      ],
      "text/plain": [
       "               pop  sq_miles\n",
       "borough                     \n",
       "Brooklyn   2582830        71\n",
       "Manhattan  1628701        23"
      ]
     },
     "execution_count": 78,
     "metadata": {},
     "output_type": "execute_result"
    }
   ],
   "source": [
    "#pop, sq_miles columns, Brooklyn and Manhattan rows\n",
    "nyc.loc[('Brooklyn', 'Manhattan'),('pop','sq_miles')]"
   ]
  },
  {
   "cell_type": "code",
   "execution_count": 79,
   "metadata": {},
   "outputs": [
    {
     "data": {
      "text/html": [
       "<div>\n",
       "<style scoped>\n",
       "    .dataframe tbody tr th:only-of-type {\n",
       "        vertical-align: middle;\n",
       "    }\n",
       "\n",
       "    .dataframe tbody tr th {\n",
       "        vertical-align: top;\n",
       "    }\n",
       "\n",
       "    .dataframe thead th {\n",
       "        text-align: right;\n",
       "    }\n",
       "</style>\n",
       "<table border=\"1\" class=\"dataframe\">\n",
       "  <thead>\n",
       "    <tr style=\"text-align: right;\">\n",
       "      <th></th>\n",
       "      <th>pop</th>\n",
       "      <th>sq_miles</th>\n",
       "      <th>density</th>\n",
       "    </tr>\n",
       "    <tr>\n",
       "      <th>borough</th>\n",
       "      <th></th>\n",
       "      <th></th>\n",
       "      <th></th>\n",
       "    </tr>\n",
       "  </thead>\n",
       "  <tbody>\n",
       "    <tr>\n",
       "      <td>Queens</td>\n",
       "      <td>2278906</td>\n",
       "      <td>109</td>\n",
       "      <td>20907.0</td>\n",
       "    </tr>\n",
       "    <tr>\n",
       "      <td>Staten Island</td>\n",
       "      <td>476179</td>\n",
       "      <td>58</td>\n",
       "      <td>8210.0</td>\n",
       "    </tr>\n",
       "  </tbody>\n",
       "</table>\n",
       "</div>"
      ],
      "text/plain": [
       "                   pop  sq_miles  density\n",
       "borough                                  \n",
       "Queens         2278906       109  20907.0\n",
       "Staten Island   476179        58   8210.0"
      ]
     },
     "execution_count": 79,
     "metadata": {},
     "output_type": "execute_result"
    }
   ],
   "source": [
    "# queens and staten island rows, all columns\n",
    "nyc.loc[('Queens', 'Staten Island'),:]"
   ]
  },
  {
   "cell_type": "code",
   "execution_count": 83,
   "metadata": {},
   "outputs": [
    {
     "data": {
      "text/html": [
       "<div>\n",
       "<style scoped>\n",
       "    .dataframe tbody tr th:only-of-type {\n",
       "        vertical-align: middle;\n",
       "    }\n",
       "\n",
       "    .dataframe tbody tr th {\n",
       "        vertical-align: top;\n",
       "    }\n",
       "\n",
       "    .dataframe thead th {\n",
       "        text-align: right;\n",
       "    }\n",
       "</style>\n",
       "<table border=\"1\" class=\"dataframe\">\n",
       "  <thead>\n",
       "    <tr style=\"text-align: right;\">\n",
       "      <th></th>\n",
       "      <th>pop</th>\n",
       "      <th>sq_miles</th>\n",
       "      <th>density</th>\n",
       "    </tr>\n",
       "    <tr>\n",
       "      <th>borough</th>\n",
       "      <th></th>\n",
       "      <th></th>\n",
       "      <th></th>\n",
       "    </tr>\n",
       "  </thead>\n",
       "  <tbody>\n",
       "    <tr>\n",
       "      <td>The Bronx</td>\n",
       "      <td>1432132</td>\n",
       "      <td>42</td>\n",
       "      <td>34098.0</td>\n",
       "    </tr>\n",
       "    <tr>\n",
       "      <td>Brooklyn</td>\n",
       "      <td>2582830</td>\n",
       "      <td>71</td>\n",
       "      <td>36378.0</td>\n",
       "    </tr>\n",
       "    <tr>\n",
       "      <td>Manhattan</td>\n",
       "      <td>1628701</td>\n",
       "      <td>23</td>\n",
       "      <td>70813.0</td>\n",
       "    </tr>\n",
       "  </tbody>\n",
       "</table>\n",
       "</div>"
      ],
      "text/plain": [
       "               pop  sq_miles  density\n",
       "borough                              \n",
       "The Bronx  1432132        42  34098.0\n",
       "Brooklyn   2582830        71  36378.0\n",
       "Manhattan  1628701        23  70813.0"
      ]
     },
     "execution_count": 83,
     "metadata": {},
     "output_type": "execute_result"
    }
   ],
   "source": [
    "#rows from Bronx through Manhattan\n",
    "nyc.loc['The Bronx':'Manhattan']"
   ]
  },
  {
   "cell_type": "code",
   "execution_count": 84,
   "metadata": {},
   "outputs": [
    {
     "data": {
      "text/html": [
       "<div>\n",
       "<style scoped>\n",
       "    .dataframe tbody tr th:only-of-type {\n",
       "        vertical-align: middle;\n",
       "    }\n",
       "\n",
       "    .dataframe tbody tr th {\n",
       "        vertical-align: top;\n",
       "    }\n",
       "\n",
       "    .dataframe thead th {\n",
       "        text-align: right;\n",
       "    }\n",
       "</style>\n",
       "<table border=\"1\" class=\"dataframe\">\n",
       "  <thead>\n",
       "    <tr style=\"text-align: right;\">\n",
       "      <th></th>\n",
       "      <th>pop</th>\n",
       "      <th>sq_miles</th>\n",
       "      <th>density</th>\n",
       "    </tr>\n",
       "    <tr>\n",
       "      <th>borough</th>\n",
       "      <th></th>\n",
       "      <th></th>\n",
       "      <th></th>\n",
       "    </tr>\n",
       "  </thead>\n",
       "  <tbody>\n",
       "    <tr>\n",
       "      <td>The Bronx</td>\n",
       "      <td>1432132</td>\n",
       "      <td>42</td>\n",
       "      <td>34098.0</td>\n",
       "    </tr>\n",
       "    <tr>\n",
       "      <td>Brooklyn</td>\n",
       "      <td>2582830</td>\n",
       "      <td>71</td>\n",
       "      <td>36378.0</td>\n",
       "    </tr>\n",
       "    <tr>\n",
       "      <td>Manhattan</td>\n",
       "      <td>1628701</td>\n",
       "      <td>23</td>\n",
       "      <td>70813.0</td>\n",
       "    </tr>\n",
       "  </tbody>\n",
       "</table>\n",
       "</div>"
      ],
      "text/plain": [
       "               pop  sq_miles  density\n",
       "borough                              \n",
       "The Bronx  1432132        42  34098.0\n",
       "Brooklyn   2582830        71  36378.0\n",
       "Manhattan  1628701        23  70813.0"
      ]
     },
     "execution_count": 84,
     "metadata": {},
     "output_type": "execute_result"
    }
   ],
   "source": [
    "#first three rows, using index\n",
    "nyc.iloc[0:3,]"
   ]
  },
  {
   "cell_type": "code",
   "execution_count": 88,
   "metadata": {},
   "outputs": [
    {
     "data": {
      "text/html": [
       "<div>\n",
       "<style scoped>\n",
       "    .dataframe tbody tr th:only-of-type {\n",
       "        vertical-align: middle;\n",
       "    }\n",
       "\n",
       "    .dataframe tbody tr th {\n",
       "        vertical-align: top;\n",
       "    }\n",
       "\n",
       "    .dataframe thead th {\n",
       "        text-align: right;\n",
       "    }\n",
       "</style>\n",
       "<table border=\"1\" class=\"dataframe\">\n",
       "  <thead>\n",
       "    <tr style=\"text-align: right;\">\n",
       "      <th></th>\n",
       "      <th>sq_miles</th>\n",
       "      <th>density</th>\n",
       "    </tr>\n",
       "    <tr>\n",
       "      <th>borough</th>\n",
       "      <th></th>\n",
       "      <th></th>\n",
       "    </tr>\n",
       "  </thead>\n",
       "  <tbody>\n",
       "    <tr>\n",
       "      <td>The Bronx</td>\n",
       "      <td>42</td>\n",
       "      <td>34098.0</td>\n",
       "    </tr>\n",
       "    <tr>\n",
       "      <td>Brooklyn</td>\n",
       "      <td>71</td>\n",
       "      <td>36378.0</td>\n",
       "    </tr>\n",
       "    <tr>\n",
       "      <td>Manhattan</td>\n",
       "      <td>23</td>\n",
       "      <td>70813.0</td>\n",
       "    </tr>\n",
       "  </tbody>\n",
       "</table>\n",
       "</div>"
      ],
      "text/plain": [
       "           sq_miles  density\n",
       "borough                     \n",
       "The Bronx        42  34098.0\n",
       "Brooklyn         71  36378.0\n",
       "Manhattan        23  70813.0"
      ]
     },
     "execution_count": 88,
     "metadata": {},
     "output_type": "execute_result"
    }
   ],
   "source": [
    "#first three rows, first two columns\n",
    "nyc.iloc[0:3,1:3]"
   ]
  },
  {
   "cell_type": "code",
   "execution_count": 93,
   "metadata": {},
   "outputs": [
    {
     "data": {
      "text/html": [
       "<div>\n",
       "<style scoped>\n",
       "    .dataframe tbody tr th:only-of-type {\n",
       "        vertical-align: middle;\n",
       "    }\n",
       "\n",
       "    .dataframe tbody tr th {\n",
       "        vertical-align: top;\n",
       "    }\n",
       "\n",
       "    .dataframe thead th {\n",
       "        text-align: right;\n",
       "    }\n",
       "</style>\n",
       "<table border=\"1\" class=\"dataframe\">\n",
       "  <thead>\n",
       "    <tr style=\"text-align: right;\">\n",
       "      <th></th>\n",
       "      <th>pop</th>\n",
       "      <th>density</th>\n",
       "    </tr>\n",
       "    <tr>\n",
       "      <th>borough</th>\n",
       "      <th></th>\n",
       "      <th></th>\n",
       "    </tr>\n",
       "  </thead>\n",
       "  <tbody>\n",
       "    <tr>\n",
       "      <td>The Bronx</td>\n",
       "      <td>1432132</td>\n",
       "      <td>34098.0</td>\n",
       "    </tr>\n",
       "    <tr>\n",
       "      <td>Brooklyn</td>\n",
       "      <td>2582830</td>\n",
       "      <td>36378.0</td>\n",
       "    </tr>\n",
       "    <tr>\n",
       "      <td>Queens</td>\n",
       "      <td>2278906</td>\n",
       "      <td>20907.0</td>\n",
       "    </tr>\n",
       "  </tbody>\n",
       "</table>\n",
       "</div>"
      ],
      "text/plain": [
       "               pop  density\n",
       "borough                    \n",
       "The Bronx  1432132  34098.0\n",
       "Brooklyn   2582830  36378.0\n",
       "Queens     2278906  20907.0"
      ]
     },
     "execution_count": 93,
     "metadata": {},
     "output_type": "execute_result"
    }
   ],
   "source": [
    "#first, second, 4th rows, first and 3rd columns\n",
    "nyc.iloc[[0,1,3],[0,2]]"
   ]
  },
  {
   "cell_type": "code",
   "execution_count": 106,
   "metadata": {},
   "outputs": [
    {
     "data": {
      "text/html": [
       "<div>\n",
       "<style scoped>\n",
       "    .dataframe tbody tr th:only-of-type {\n",
       "        vertical-align: middle;\n",
       "    }\n",
       "\n",
       "    .dataframe tbody tr th {\n",
       "        vertical-align: top;\n",
       "    }\n",
       "\n",
       "    .dataframe thead th {\n",
       "        text-align: right;\n",
       "    }\n",
       "</style>\n",
       "<table border=\"1\" class=\"dataframe\">\n",
       "  <thead>\n",
       "    <tr style=\"text-align: right;\">\n",
       "      <th></th>\n",
       "      <th>pop</th>\n",
       "      <th>sq_miles</th>\n",
       "      <th>density</th>\n",
       "    </tr>\n",
       "    <tr>\n",
       "      <th>borough</th>\n",
       "      <th></th>\n",
       "      <th></th>\n",
       "      <th></th>\n",
       "    </tr>\n",
       "  </thead>\n",
       "  <tbody>\n",
       "    <tr>\n",
       "      <td>The Bronx</td>\n",
       "      <td>1432132</td>\n",
       "      <td>42</td>\n",
       "      <td>34098.0</td>\n",
       "    </tr>\n",
       "    <tr>\n",
       "      <td>Manhattan</td>\n",
       "      <td>1628701</td>\n",
       "      <td>23</td>\n",
       "      <td>70813.0</td>\n",
       "    </tr>\n",
       "  </tbody>\n",
       "</table>\n",
       "</div>"
      ],
      "text/plain": [
       "               pop  sq_miles  density\n",
       "borough                              \n",
       "The Bronx  1432132        42  34098.0\n",
       "Manhattan  1628701        23  70813.0"
      ]
     },
     "execution_count": 106,
     "metadata": {},
     "output_type": "execute_result"
    }
   ],
   "source": [
    "#we can also index rows using conditional statements as follows:\n",
    "nyc[(nyc['density']>30000) & (nyc['sq_miles']<50)]"
   ]
  },
  {
   "cell_type": "markdown",
   "metadata": {},
   "source": [
    "# Basic Data Analysis\n",
    "The best way to see how NumPy, Pandas, MatplotLib, and other libraries can work together is by running a basic analysis of a real dataset. "
   ]
  },
  {
   "cell_type": "code",
   "execution_count": 4,
   "metadata": {},
   "outputs": [],
   "source": [
    "#first, read in \"births\" dataset\n",
    "births = pd.read_csv('births.csv')"
   ]
  },
  {
   "cell_type": "code",
   "execution_count": 5,
   "metadata": {},
   "outputs": [
    {
     "data": {
      "text/html": [
       "<div>\n",
       "<style scoped>\n",
       "    .dataframe tbody tr th:only-of-type {\n",
       "        vertical-align: middle;\n",
       "    }\n",
       "\n",
       "    .dataframe tbody tr th {\n",
       "        vertical-align: top;\n",
       "    }\n",
       "\n",
       "    .dataframe thead th {\n",
       "        text-align: right;\n",
       "    }\n",
       "</style>\n",
       "<table border=\"1\" class=\"dataframe\">\n",
       "  <thead>\n",
       "    <tr style=\"text-align: right;\">\n",
       "      <th></th>\n",
       "      <th>fAge</th>\n",
       "      <th>mAge</th>\n",
       "      <th>weeks</th>\n",
       "      <th>premature</th>\n",
       "      <th>visits</th>\n",
       "      <th>gained</th>\n",
       "      <th>weight</th>\n",
       "      <th>sexBaby</th>\n",
       "      <th>smoke</th>\n",
       "    </tr>\n",
       "  </thead>\n",
       "  <tbody>\n",
       "    <tr>\n",
       "      <td>0</td>\n",
       "      <td>31.0</td>\n",
       "      <td>30</td>\n",
       "      <td>39</td>\n",
       "      <td>full term</td>\n",
       "      <td>13.0</td>\n",
       "      <td>1.0</td>\n",
       "      <td>6.88</td>\n",
       "      <td>male</td>\n",
       "      <td>smoker</td>\n",
       "    </tr>\n",
       "    <tr>\n",
       "      <td>1</td>\n",
       "      <td>34.0</td>\n",
       "      <td>36</td>\n",
       "      <td>39</td>\n",
       "      <td>full term</td>\n",
       "      <td>5.0</td>\n",
       "      <td>35.0</td>\n",
       "      <td>7.69</td>\n",
       "      <td>male</td>\n",
       "      <td>nonsmoker</td>\n",
       "    </tr>\n",
       "    <tr>\n",
       "      <td>2</td>\n",
       "      <td>36.0</td>\n",
       "      <td>35</td>\n",
       "      <td>40</td>\n",
       "      <td>full term</td>\n",
       "      <td>12.0</td>\n",
       "      <td>29.0</td>\n",
       "      <td>8.88</td>\n",
       "      <td>male</td>\n",
       "      <td>nonsmoker</td>\n",
       "    </tr>\n",
       "    <tr>\n",
       "      <td>3</td>\n",
       "      <td>41.0</td>\n",
       "      <td>40</td>\n",
       "      <td>40</td>\n",
       "      <td>full term</td>\n",
       "      <td>13.0</td>\n",
       "      <td>30.0</td>\n",
       "      <td>9.00</td>\n",
       "      <td>female</td>\n",
       "      <td>nonsmoker</td>\n",
       "    </tr>\n",
       "    <tr>\n",
       "      <td>4</td>\n",
       "      <td>42.0</td>\n",
       "      <td>37</td>\n",
       "      <td>40</td>\n",
       "      <td>full term</td>\n",
       "      <td>NaN</td>\n",
       "      <td>10.0</td>\n",
       "      <td>7.94</td>\n",
       "      <td>male</td>\n",
       "      <td>nonsmoker</td>\n",
       "    </tr>\n",
       "  </tbody>\n",
       "</table>\n",
       "</div>"
      ],
      "text/plain": [
       "   fAge  mAge  weeks  premature  visits  gained  weight sexBaby      smoke\n",
       "0  31.0    30     39  full term    13.0     1.0    6.88    male     smoker\n",
       "1  34.0    36     39  full term     5.0    35.0    7.69    male  nonsmoker\n",
       "2  36.0    35     40  full term    12.0    29.0    8.88    male  nonsmoker\n",
       "3  41.0    40     40  full term    13.0    30.0    9.00  female  nonsmoker\n",
       "4  42.0    37     40  full term     NaN    10.0    7.94    male  nonsmoker"
      ]
     },
     "execution_count": 5,
     "metadata": {},
     "output_type": "execute_result"
    }
   ],
   "source": [
    "#look at first five rows\n",
    "births.head(5)"
   ]
  },
  {
   "cell_type": "code",
   "execution_count": 6,
   "metadata": {},
   "outputs": [
    {
     "data": {
      "text/plain": [
       "(150, 9)"
      ]
     },
     "execution_count": 6,
     "metadata": {},
     "output_type": "execute_result"
    }
   ],
   "source": [
    "births.shape"
   ]
  },
  {
   "cell_type": "code",
   "execution_count": 110,
   "metadata": {},
   "outputs": [
    {
     "data": {
      "text/plain": [
       "fAge         31\n",
       "mAge          0\n",
       "weeks         0\n",
       "premature     0\n",
       "visits        1\n",
       "gained        2\n",
       "weight        0\n",
       "sexBaby       0\n",
       "smoke         0\n",
       "dtype: int64"
      ]
     },
     "execution_count": 110,
     "metadata": {},
     "output_type": "execute_result"
    }
   ],
   "source": [
    "#amount of missing data by column\n",
    "births.isnull().sum()"
   ]
  },
  {
   "cell_type": "code",
   "execution_count": 115,
   "metadata": {},
   "outputs": [
    {
     "data": {
      "text/plain": [
       "34"
      ]
     },
     "execution_count": 115,
     "metadata": {},
     "output_type": "execute_result"
    }
   ],
   "source": [
    "#total amount of missing cells\n",
    "births.isnull().sum().sum()"
   ]
  },
  {
   "cell_type": "code",
   "execution_count": 7,
   "metadata": {},
   "outputs": [],
   "source": [
    "#for now, I'm going to delete these rows,\n",
    "#but better would be to impute the missing data\n",
    "#note: axis=0 means drop rows with nas, axis=1 would drop columns with nas\n",
    "births = births.dropna(axis=0)"
   ]
  },
  {
   "cell_type": "code",
   "execution_count": 121,
   "metadata": {},
   "outputs": [
    {
     "data": {
      "text/plain": [
       "(117, 9)"
      ]
     },
     "execution_count": 121,
     "metadata": {},
     "output_type": "execute_result"
    }
   ],
   "source": [
    "#note that 34 rows have been dropped\n",
    "births.shape"
   ]
  },
  {
   "cell_type": "code",
   "execution_count": 8,
   "metadata": {},
   "outputs": [
    {
     "data": {
      "text/plain": [
       "['premie', 'full term']"
      ]
     },
     "execution_count": 8,
     "metadata": {},
     "output_type": "execute_result"
    }
   ],
   "source": [
    "#unique values of \"premature\" column\n",
    "unique_prem = list(set(births['premature']))\n",
    "unique_prem"
   ]
  },
  {
   "cell_type": "code",
   "execution_count": 9,
   "metadata": {},
   "outputs": [
    {
     "data": {
      "text/plain": [
       "['nonsmoker', 'smoker']"
      ]
     },
     "execution_count": 9,
     "metadata": {},
     "output_type": "execute_result"
    }
   ],
   "source": [
    "#unique values of \"smoker\" column\n",
    "unique_smoke = list(set(births['smoke']))\n",
    "unique_smoke"
   ]
  },
  {
   "cell_type": "code",
   "execution_count": 130,
   "metadata": {},
   "outputs": [
    {
     "data": {
      "text/html": [
       "<div>\n",
       "<style scoped>\n",
       "    .dataframe tbody tr th:only-of-type {\n",
       "        vertical-align: middle;\n",
       "    }\n",
       "\n",
       "    .dataframe tbody tr th {\n",
       "        vertical-align: top;\n",
       "    }\n",
       "\n",
       "    .dataframe thead th {\n",
       "        text-align: right;\n",
       "    }\n",
       "</style>\n",
       "<table border=\"1\" class=\"dataframe\">\n",
       "  <thead>\n",
       "    <tr style=\"text-align: right;\">\n",
       "      <th></th>\n",
       "      <th>weight</th>\n",
       "    </tr>\n",
       "    <tr>\n",
       "      <th>smoke</th>\n",
       "      <th></th>\n",
       "    </tr>\n",
       "  </thead>\n",
       "  <tbody>\n",
       "    <tr>\n",
       "      <td>nonsmoker</td>\n",
       "      <td>7.189759</td>\n",
       "    </tr>\n",
       "    <tr>\n",
       "      <td>smoker</td>\n",
       "      <td>6.929412</td>\n",
       "    </tr>\n",
       "  </tbody>\n",
       "</table>\n",
       "</div>"
      ],
      "text/plain": [
       "             weight\n",
       "smoke              \n",
       "nonsmoker  7.189759\n",
       "smoker     6.929412"
      ]
     },
     "execution_count": 130,
     "metadata": {},
     "output_type": "execute_result"
    }
   ],
   "source": [
    "#birthweight by smoking status\n",
    "births.loc[:,('smoke','weight')].groupby('smoke').mean()"
   ]
  },
  {
   "cell_type": "markdown",
   "metadata": {},
   "source": [
    "It is also possible to use multi-layer indexing to quickly subset the data by categories. See the following example: "
   ]
  },
  {
   "cell_type": "code",
   "execution_count": 10,
   "metadata": {},
   "outputs": [
    {
     "name": "stdout",
     "output_type": "stream",
     "text": [
      "                     weight\n",
      "smoke     premature        \n",
      "nonsmoker full term    7.69\n",
      "          full term    8.88\n",
      "          full term    9.00\n",
      "          full term    8.75\n",
      "          full term    7.44\n",
      "...                     ...\n",
      "smoker    premie       2.69\n",
      "          premie       4.75\n",
      "          premie       4.50\n",
      "          premie       5.94\n",
      "          premie       6.31\n",
      "\n",
      "[117 rows x 1 columns]\n"
     ]
    }
   ],
   "source": [
    "#restrict to just a few columns\n",
    "births_ind = births.loc[:,('smoke','premature','weight')]\n",
    "\n",
    "#make smoking status and premature status be indexes\n",
    "births_ind = births_ind.set_index(['smoke', 'premature'])\n",
    "\n",
    "#order by index name -- just makes search faster later\n",
    "births_ind = births_ind.sort_index(level = births_ind.index.names)\n",
    "\n",
    "#print result\n",
    "print(births_ind)"
   ]
  },
  {
   "cell_type": "code",
   "execution_count": 11,
   "metadata": {},
   "outputs": [
    {
     "data": {
      "text/plain": [
       "smoke   premature\n",
       "smoker  premie       5.50\n",
       "        premie       2.69\n",
       "        premie       4.75\n",
       "        premie       4.50\n",
       "        premie       5.94\n",
       "Name: weight, dtype: float64"
      ]
     },
     "execution_count": 11,
     "metadata": {},
     "output_type": "execute_result"
    }
   ],
   "source": [
    "#look at birthweights of babies born to smokers who were premature\n",
    "smoker_premie = births_ind.loc['smoker','premie']\n",
    "smoker_premie['weight'].head()"
   ]
  },
  {
   "cell_type": "markdown",
   "metadata": {},
   "source": [
    "Now let's take a moment and visualize this data using matplotlib. Note that the syntax is similar to ggplot: you need to initialize a plot, then add layers on top of the plot."
   ]
  },
  {
   "cell_type": "code",
   "execution_count": 12,
   "metadata": {},
   "outputs": [
    {
     "data": {
      "text/plain": [
       "Text(0.5, 1.0, 'Histogram of Birth Weight')"
      ]
     },
     "execution_count": 12,
     "metadata": {},
     "output_type": "execute_result"
    },
    {
     "data": {
      "image/png": "[encoded data removed]",
      "text/plain": [
       "<Figure size 432x288 with 1 Axes>"
      ]
     },
     "metadata": {
      "needs_background": "light"
     },
     "output_type": "display_data"
    }
   ],
   "source": [
    "#plot a histogram, again: sort values just speeds up algorithm\n",
    "plt.hist(births['weight'].sort_values(), bins=20)\n",
    "plt.ylabel('Frequency')\n",
    "plt.xlabel('Birth Weight')\n",
    "plt.title(\"Histogram of Birth Weight\")"
   ]
  },
  {
   "cell_type": "code",
   "execution_count": 146,
   "metadata": {},
   "outputs": [
    {
     "data": {
      "text/plain": [
       "Text(0.5, 1.0, 'Birth Weight Distributions by Mother Smoking Status')"
      ]
     },
     "execution_count": 146,
     "metadata": {},
     "output_type": "execute_result"
    },
    {
     "data": {
      "image/png": "[encoded data removed]",
      "text/plain": [
       "<Figure size 432x288 with 1 Axes>"
      ]
     },
     "metadata": {
      "needs_background": "light"
     },
     "output_type": "display_data"
    }
   ],
   "source": [
    "#we can also overlay two histograms as follows\n",
    "#note: alpha parameter makes the bars more or less see-through\n",
    "smokers = births_ind.loc['smoker']['weight']\n",
    "nonsmokers = births_ind.loc['nonsmoker']['weight']\n",
    "\n",
    "plt.hist(smokers, bins=20, alpha=0.6, label='smoker')\n",
    "plt.hist(nonsmokers, bins=20, alpha=0.6, label='nonsmoker')\n",
    "plt.legend(loc='upper right')\n",
    "plt.ylabel('Frequency')\n",
    "plt.xlabel('Birth weight')\n",
    "plt.title(\"Birth Weight Distributions by Mother Smoking Status\")"
   ]
  },
  {
   "cell_type": "code",
   "execution_count": 152,
   "metadata": {},
   "outputs": [
    {
     "data": {
      "image/png": "[encoded data removed]",
      "text/plain": [
       "<Figure size 576x720 with 4 Axes>"
      ]
     },
     "metadata": {
      "needs_background": "light"
     },
     "output_type": "display_data"
    }
   ],
   "source": [
    "#or by smoking status x premature status\n",
    "fig = plt.figure(figsize = (8,10))\n",
    "i = 1\n",
    " \n",
    "for smoke_stat in unique_smoke:\n",
    "    for prem_stat in unique_prem:\n",
    "        data = births_ind.loc[smoke_stat,prem_stat]\n",
    "        ax = fig.add_subplot(2,2,i)\n",
    "        ax = plt.hist(data['weight'], range=[0, 10])\n",
    "        ax = plt.ylabel('Frequency')\n",
    "        ax = plt.xlabel('Age')\n",
    "        ax = plt.title(prem_stat + \" babies, \" + smoke_stat + \" mothers\")\n",
    "        i = i+1"
   ]
  },
  {
   "cell_type": "code",
   "execution_count": 160,
   "metadata": {},
   "outputs": [
    {
     "data": {
      "text/plain": [
       "<matplotlib.legend.Legend at 0x1c23002d90>"
      ]
     },
     "execution_count": 160,
     "metadata": {},
     "output_type": "execute_result"
    },
    {
     "data": {
      "image/png": "[encoded data removed]",
      "text/plain": [
       "<Figure size 432x288 with 1 Axes>"
      ]
     },
     "metadata": {
      "needs_background": "light"
     },
     "output_type": "display_data"
    }
   ],
   "source": [
    "#scatter plot of birth weight vs mother age by prem status\n",
    "for prem_stat in unique_prem: \n",
    "    data = births[(births.premature == prem_stat)]\n",
    "    plt.scatter(data['mAge'], data['weight'])\n",
    "plt.ylabel('Birth Weight')\n",
    "plt.xlabel('Mother Age')\n",
    "plt.title(\"Birth Weight Vs. Mother Age\")\n",
    "plt.legend(unique_prem, loc='lower right')"
   ]
  },
  {
   "cell_type": "code",
   "execution_count": 14,
   "metadata": {},
   "outputs": [],
   "source": [
    "#now, we can use patsy to get a design matrix for a regression formula\n",
    "y, X = patsy.dmatrices('weight ~ mAge + premature + mAge:premature', births)"
   ]
  },
  {
   "cell_type": "code",
   "execution_count": 17,
   "metadata": {},
   "outputs": [
    {
     "data": {
      "text/plain": [
       "array([[ 1.,  0., 30.,  0.],\n",
       "       [ 1.,  0., 36.,  0.],\n",
       "       [ 1.,  0., 35.,  0.],\n",
       "       [ 1.,  0., 40.,  0.],\n",
       "       [ 1.,  0., 28.,  0.],\n",
       "       [ 1.,  1., 35., 35.],\n",
       "       [ 1.,  1., 21., 21.],\n",
       "       [ 1.,  1., 20., 20.],\n",
       "       [ 1.,  0., 25.,  0.],\n",
       "       [ 1.,  1., 19., 19.]])"
      ]
     },
     "execution_count": 17,
     "metadata": {},
     "output_type": "execute_result"
    }
   ],
   "source": [
    "#take a look at the X matrix\n",
    "X[0:10,]"
   ]
  },
  {
   "cell_type": "code",
   "execution_count": 19,
   "metadata": {},
   "outputs": [
    {
     "name": "stdout",
     "output_type": "stream",
     "text": [
      "[ 7.11166722 -3.72486715  0.01283277  0.03990327]\n"
     ]
    }
   ],
   "source": [
    "#run a linear model with this matrix\n",
    "model1 = sm.OLS(y,X)\n",
    "results = model1.fit()\n",
    "print(results.params)"
   ]
  },
  {
   "cell_type": "code",
   "execution_count": 20,
   "metadata": {},
   "outputs": [
    {
     "name": "stdout",
     "output_type": "stream",
     "text": [
      "                            OLS Regression Results                            \n",
      "==============================================================================\n",
      "Dep. Variable:                 weight   R-squared:                       0.427\n",
      "Model:                            OLS   Adj. R-squared:                  0.412\n",
      "Method:                 Least Squares   F-statistic:                     28.08\n",
      "Date:                Mon, 30 Mar 2020   Prob (F-statistic):           1.21e-13\n",
      "Time:                        12:49:46   Log-Likelihood:                -172.23\n",
      "No. Observations:                 117   AIC:                             352.5\n",
      "Df Residuals:                     113   BIC:                             363.5\n",
      "Df Model:                           3                                         \n",
      "Covariance Type:            nonrobust                                         \n",
      "============================================================================================\n",
      "                               coef    std err          t      P>|t|      [0.025      0.975]\n",
      "--------------------------------------------------------------------------------------------\n",
      "Intercept                    7.1117      0.504     14.109      0.000       6.113       8.110\n",
      "premature[T.premie]         -3.7249      1.189     -3.132      0.002      -6.081      -1.368\n",
      "mAge                         0.0128      0.018      0.704      0.483      -0.023       0.049\n",
      "mAge:premature[T.premie]     0.0399      0.044      0.915      0.362      -0.047       0.126\n",
      "==============================================================================\n",
      "Omnibus:                        2.039   Durbin-Watson:                   2.110\n",
      "Prob(Omnibus):                  0.361   Jarque-Bera (JB):                1.583\n",
      "Skew:                          -0.128   Prob(JB):                        0.453\n",
      "Kurtosis:                       3.510   Cond. No.                         340.\n",
      "==============================================================================\n",
      "\n",
      "Warnings:\n",
      "[1] Standard Errors assume that the covariance matrix of the errors is correctly specified.\n"
     ]
    }
   ],
   "source": [
    "#print a summary of the model\n",
    "print(results.summary())"
   ]
  },
  {
   "cell_type": "code",
   "execution_count": 41,
   "metadata": {},
   "outputs": [
    {
     "data": {
      "text/plain": [
       "<matplotlib.legend.Legend at 0x1c2767b210>"
      ]
     },
     "execution_count": 41,
     "metadata": {},
     "output_type": "execute_result"
    },
    {
     "data": {
      "image/png": "[encoded data removed]",
      "text/plain": [
       "<Figure size 432x288 with 1 Axes>"
      ]
     },
     "metadata": {
      "needs_background": "light"
     },
     "output_type": "display_data"
    }
   ],
   "source": [
    "#replot the scatter plot with regression lines\n",
    "minmage = min(births[\"mAge\"])\n",
    "maxmage = max(births[\"mAge\"])\n",
    "xs = np.linspace(minmage, maxmage, 1000)\n",
    "colors = [\"blue\", \"orange\"]\n",
    "for i, prem_stat in enumerate(unique_prem): \n",
    "    data = births[(births.premature == prem_stat)]\n",
    "    plt.scatter(data['mAge'], data['weight'], color = colors[i])\n",
    "plt.plot(xs, \n",
    "         results.params[0]+results.params[2]*xs, \n",
    "         color='orange',\n",
    "         linewidth=5)\n",
    "plt.plot(xs, \n",
    "         results.params[0:2].sum()+results.params[2:4].sum()*xs, \n",
    "         color='blue',\n",
    "         linewidth=5)\n",
    "plt.ylabel('Birth Weight')\n",
    "plt.xlabel('Mother Age')\n",
    "plt.title(\"Birth Weight Vs. Mother Age\")\n",
    "plt.legend(unique_prem, loc='lower right')"
   ]
  }
 ],
 "metadata": {
  "kernelspec": {
   "display_name": "Python 3",
   "language": "python",
   "name": "python3"
  },
  "language_info": {
   "codemirror_mode": {
    "name": "ipython",
    "version": 3
   },
   "file_extension": ".py",
   "mimetype": "text/x-python",
   "name": "python",
   "nbconvert_exporter": "python",
   "pygments_lexer": "ipython3",
   "version": "3.7.4"
  }
 },
 "nbformat": 4,
 "nbformat_minor": 2
}
