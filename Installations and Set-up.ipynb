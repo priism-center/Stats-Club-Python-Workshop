{
 "cells": [
  {
   "cell_type": "markdown",
   "metadata": {},
   "source": [
    "# Python Installation and Computer Set-Up"
   ]
  },
  {
   "cell_type": "markdown",
   "metadata": {},
   "source": [
    "## Anaconda  \n",
    "The easiest way to download everything that you will need is to download Anaconda (Python 3.7 version), here: https://www.anaconda.com/distribution/#download-section\n",
    "  \n",
    "This will automatically download Python, Jupyter, Spyder, and a number of useful Python packages. If you prefer to download these things separately, links are below."
   ]
  },
  {
   "cell_type": "markdown",
   "metadata": {},
   "source": [
    "## Python  \n",
    "Can be downloaded here: https://www.python.org/downloads/ "
   ]
  },
  {
   "cell_type": "markdown",
   "metadata": {},
   "source": [
    "## Jupyter Notebooks  \n",
    "Use pip3 in the terminal:   \n",
    "You shouldn't need to download pip because it comes with recent Python versions, but just in case, directions are here: https://pip.readthedocs.io/en/stable/installing/   \n",
    "Then, in the terminal, type:  \n",
    "   pip3 install --upgrade pip  \n",
    "   pip3 install jupyter  \n",
    "More directions here: https://jupyter.readthedocs.io/en/latest/install.html   "
   ]
  },
  {
   "cell_type": "markdown",
   "metadata": {},
   "source": [
    "## Installing Packages  \n",
    "If you need to install additional packages (in case they don't come with Anaconda or if you didn't download Anaconda, you can install them using pip3)   \n",
    "For example, to install numpy, you would type into a terminal window: pip3 install numpy"
   ]
  },
  {
   "cell_type": "markdown",
   "metadata": {},
   "source": [
    "## Launching a Python Notebook  \n",
    "Once you have installed Anaconda or Python + Jupyter Notebooks, you can create a Jupyter notebook in one of two ways:  \n",
    "Option 1: Open Anaconda in from your Applications, then click on \"Launch\" under Jupyter Notebooks (under the \"Home\" tab on the left hand panel -- but it should open directly to this page), navigate to whatever folder you want, and then click \"New\" (upper right-hand corner) --> Notebook: Python 3.  \n",
    "Option 2: Alternatively, you can launch Jupyter Notebooks directly from the terminal (by typing \"jupyter notebook\"). If you launch from the terminal, then you can cd into any working directory before launching the notebook to start from that location, or you can navigate directly in the Jupyter window as above."
   ]
  }
 ],
 "metadata": {
  "kernelspec": {
   "display_name": "Python 3",
   "language": "python",
   "name": "python3"
  },
  "language_info": {
   "codemirror_mode": {
    "name": "ipython",
    "version": 3
   },
   "file_extension": ".py",
   "mimetype": "text/x-python",
   "name": "python",
   "nbconvert_exporter": "python",
   "pygments_lexer": "ipython3",
   "version": "3.7.4"
  }
 },
 "nbformat": 4,
 "nbformat_minor": 2
}
