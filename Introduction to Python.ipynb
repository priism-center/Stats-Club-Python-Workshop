{
 "cells": [
  {
   "cell_type": "markdown",
   "metadata": {},
   "source": [
    "# Intro to Python"
   ]
  },
  {
   "cell_type": "markdown",
   "metadata": {},
   "source": [
    "## Basic Math Operations \n",
    "Note: To run code in an a cell below, use control, return\n",
    "\n",
    "Also note: Unlike in R, you will need to use print() statements to print output in a Jupyter notebook (only the output from the last line in a given code chunk will print otherwise)"
   ]
  },
  {
   "cell_type": "code",
   "execution_count": 1,
   "metadata": {},
   "outputs": [
    {
     "name": "stdout",
     "output_type": "stream",
     "text": [
      "10\n",
      "0\n",
      "15\n",
      "3.3333333333333335\n",
      "3\n",
      "4\n",
      "16\n"
     ]
    }
   ],
   "source": [
    "print(5 + 5) #addition\n",
    "print(5 - 5) #subtraction\n",
    "print(3 * 5) #multiplication\n",
    "print(10 / 3) #division giving a decimal\n",
    "print(10 // 3) #division giving a rounded down integer\n",
    "print(18 % 7) #modulo\n",
    "print(4 ** 2) #exponentiation"
   ]
  },
  {
   "cell_type": "markdown",
   "metadata": {},
   "source": [
    "## Data Types  \n",
    "Data types are essentially the same as in R. A float is just a decimal. You can assess a variable's type by using the type( ) function"
   ]
  },
  {
   "cell_type": "code",
   "execution_count": 2,
   "metadata": {},
   "outputs": [
    {
     "name": "stdout",
     "output_type": "stream",
     "text": [
      "<class 'float'>\n",
      "<class 'int'>\n",
      "<class 'str'>\n",
      "<class 'bool'>\n"
     ]
    }
   ],
   "source": [
    "#floats, ints, strings, and booleans\n",
    "cost = 3.51\n",
    "amount = 9\n",
    "bottomline = 'your total is $'\n",
    "congrats = ' YAY!'\n",
    "affordable = True\n",
    "\n",
    "print(type(cost))\n",
    "print(type(amount))\n",
    "print(type(bottomline))\n",
    "print(type(affordable))"
   ]
  },
  {
   "cell_type": "markdown",
   "metadata": {},
   "source": [
    "You can also change data types using functions like int( ) bool( ) and float( ):"
   ]
  },
  {
   "cell_type": "code",
   "execution_count": 3,
   "metadata": {},
   "outputs": [
    {
     "name": "stdout",
     "output_type": "stream",
     "text": [
      "<class 'int'>\n"
     ]
    }
   ],
   "source": [
    "cost_integer = int(cost)\n",
    "print(type(cost_integer))"
   ]
  },
  {
   "cell_type": "markdown",
   "metadata": {},
   "source": [
    "Some operations function differently for different types of data. For example, you can add strings in Python, which works much like paste0 in R:"
   ]
  },
  {
   "cell_type": "code",
   "execution_count": 15,
   "metadata": {},
   "outputs": [
    {
     "name": "stdout",
     "output_type": "stream",
     "text": [
      "your total is $31.59 YAY!\n"
     ]
    }
   ],
   "source": [
    "print(bottomline + str(round(cost * amount, 2)) + congrats)"
   ]
  },
  {
   "cell_type": "markdown",
   "metadata": {},
   "source": [
    "You can also separate elements by commas in a print statement, which functions like paste in R:"
   ]
  },
  {
   "cell_type": "code",
   "execution_count": 4,
   "metadata": {},
   "outputs": [
    {
     "name": "stdout",
     "output_type": "stream",
     "text": [
      "your total is $ 31.59  YAY!\n"
     ]
    }
   ],
   "source": [
    "print(bottomline, round(cost*amount, 2), congrats)"
   ]
  },
  {
   "cell_type": "markdown",
   "metadata": {},
   "source": [
    "## Logical Statements   "
   ]
  },
  {
   "cell_type": "code",
   "execution_count": 19,
   "metadata": {},
   "outputs": [
    {
     "name": "stdout",
     "output_type": "stream",
     "text": [
      "True\n",
      "True\n",
      "False\n",
      "True\n",
      "True\n",
      "True\n"
     ]
    }
   ],
   "source": [
    "print(5 == 5) #check if two numbers are equal\n",
    "print(7 > 5) #check if 7 is greater than 5\n",
    "print(7 < 5) #check if 7 is less than 5\n",
    "print(7 != 5) #check if 7 is not equal to 5\n",
    "print((7 > 5) & (7 < 10)) #check if 7>5 and 7<10\n",
    "print((3 > 5) | (3 < 10)) #check if 3>5 or 3<10"
   ]
  },
  {
   "cell_type": "code",
   "execution_count": 37,
   "metadata": {},
   "outputs": [
    {
     "name": "stdout",
     "output_type": "stream",
     "text": [
      "True\n",
      "True\n",
      "False\n",
      "True\n"
     ]
    }
   ],
   "source": [
    "#Also works for strings!\n",
    "print(\"hello\" == \"hello\") #check if two strings are the same\n",
    "print(\"hello\" > \"goodbye\") #comparison is based on alphabetical order\n",
    "print(\"hello\" < \"goodbye\")\n",
    "print(\"hello\" != \"goodbye\") #check if two strings are not equal"
   ]
  },
  {
   "cell_type": "markdown",
   "metadata": {},
   "source": [
    "## Built in Data Structures   "
   ]
  },
  {
   "cell_type": "markdown",
   "metadata": {},
   "source": [
    "One important thing to know about Python (different from R): When you give a variable name to a data structure, that name points to a container with data in it (it does not contain the data directly). \n",
    "\n",
    "If you set two variable names equal to each other, then you are telling Python that you want those names to point toward the same container. Thus, changing the contents of the container (via either variable name) will change both variables. For example: "
   ]
  },
  {
   "cell_type": "code",
   "execution_count": 110,
   "metadata": {},
   "outputs": [
    {
     "name": "stdout",
     "output_type": "stream",
     "text": [
      "[7, 3, 2]\n",
      "[7, 3, 2]\n"
     ]
    }
   ],
   "source": [
    "# set a = 5\n",
    "a = [5,3,2]\n",
    "\n",
    "# set b = a, which means \"b\" now points to the same place as \"a\"\n",
    "b = a\n",
    "\n",
    "# change the value of the first element of \"a\" to 7\n",
    "a[0] = 7\n",
    "\n",
    "# note that the first element of \"b\" is now also changed to 7\n",
    "print(a)\n",
    "print(b)"
   ]
  },
  {
   "cell_type": "markdown",
   "metadata": {},
   "source": [
    "You can check if two names point to the same object using \"is\" or \"is not\""
   ]
  },
  {
   "cell_type": "code",
   "execution_count": 111,
   "metadata": {},
   "outputs": [
    {
     "name": "stdout",
     "output_type": "stream",
     "text": [
      "True\n"
     ]
    }
   ],
   "source": [
    "print(a is b)"
   ]
  },
  {
   "cell_type": "code",
   "execution_count": 108,
   "metadata": {},
   "outputs": [
    {
     "name": "stdout",
     "output_type": "stream",
     "text": [
      "[7, 3, 2]\n",
      "[7, 3, 2]\n",
      "False\n"
     ]
    }
   ],
   "source": [
    "#make b into a copy of a, so they are no longer referencing\n",
    "#the same object, even though they are still equal\n",
    "b = a.copy()  \n",
    "print(a)\n",
    "print(b)\n",
    "print(a is b)"
   ]
  },
  {
   "cell_type": "markdown",
   "metadata": {},
   "source": [
    "### Python Tuples "
   ]
  },
  {
   "cell_type": "markdown",
   "metadata": {},
   "source": [
    "Tuples are immutable, fixed length sequences of python objects. They can be created by writing objects separated by commas:  "
   ]
  },
  {
   "cell_type": "code",
   "execution_count": 6,
   "metadata": {},
   "outputs": [
    {
     "name": "stdout",
     "output_type": "stream",
     "text": [
      "(1, 3, 'hello')\n"
     ]
    }
   ],
   "source": [
    "tup1 = 1, 3, \"hello\"\n",
    "print(tup1)"
   ]
  },
  {
   "cell_type": "markdown",
   "metadata": {},
   "source": [
    "Tuples can also contain tuples within them. To do this, you can use parentheses. For example: "
   ]
  },
  {
   "cell_type": "code",
   "execution_count": 8,
   "metadata": {},
   "outputs": [
    {
     "name": "stdout",
     "output_type": "stream",
     "text": [
      "(1, 3, (2, 4))\n"
     ]
    }
   ],
   "source": [
    "tup2 = 1, 3, (2,4)\n",
    "print(tup2)"
   ]
  },
  {
   "cell_type": "markdown",
   "metadata": {},
   "source": [
    "Tuples can be created from other sequences, like lists and strings using the tuple( ) function. For example:"
   ]
  },
  {
   "cell_type": "code",
   "execution_count": 12,
   "metadata": {},
   "outputs": [
    {
     "name": "stdout",
     "output_type": "stream",
     "text": [
      "('h', 'e', 'l', 'l', 'o')\n"
     ]
    }
   ],
   "source": [
    "print(tuple('hello'))"
   ]
  },
  {
   "cell_type": "markdown",
   "metadata": {},
   "source": [
    "You can access elements of a tuple with square brackets (note: index starts at 0):"
   ]
  },
  {
   "cell_type": "code",
   "execution_count": 13,
   "metadata": {},
   "outputs": [
    {
     "name": "stdout",
     "output_type": "stream",
     "text": [
      "1\n"
     ]
    }
   ],
   "source": [
    "print(tup2[0])"
   ]
  },
  {
   "cell_type": "markdown",
   "metadata": {},
   "source": [
    "Once a tuple is created, you can't change the order of objects or replace any of the objects, but you can modify mutable objects within the tuple. For example:"
   ]
  },
  {
   "cell_type": "code",
   "execution_count": 17,
   "metadata": {},
   "outputs": [
    {
     "name": "stdout",
     "output_type": "stream",
     "text": [
      "(1, 2, [3, 'hi', 5], 6, 7)\n"
     ]
    }
   ],
   "source": [
    "#this tuple contains a list (described in the next section)\n",
    "#lists are mutable, so we can change the list, but not other elements\n",
    "tup3 = 1, 2, [3,4,5], 6, 7\n",
    "#tup3[1] = 3 #this will throw an error\n",
    "tup3[2][1] = \"hi\" #this is fine\n",
    "print(tup3)"
   ]
  },
  {
   "cell_type": "markdown",
   "metadata": {},
   "source": [
    "You can \"unpack\" a tuple (i.e., separate it into its' parts as follows:"
   ]
  },
  {
   "cell_type": "code",
   "execution_count": 18,
   "metadata": {},
   "outputs": [
    {
     "name": "stdout",
     "output_type": "stream",
     "text": [
      "(1, 3, 'hello')\n",
      "1\n",
      "3\n",
      "hello\n",
      "1\n",
      "[3, 'hello']\n"
     ]
    }
   ],
   "source": [
    "#reprint tup1\n",
    "print(tup1)\n",
    "\n",
    "#save values in tup1 to variables a,b,c\n",
    "a, b, c = tup1\n",
    "print(a)\n",
    "print(b)\n",
    "print(c)\n",
    "\n",
    "#save the first value in tup1 to a, the rest to b\n",
    "a,*b = tup1\n",
    "print(a)\n",
    "print(b)"
   ]
  },
  {
   "cell_type": "markdown",
   "metadata": {},
   "source": [
    "### Python Lists\n",
    "\n",
    "Python lists are probably the most used data structure in base Python. They look and operate much like vectors in R; however, like R lists, they can contain multiple different data types. Python lists are defined using square brackets and elements separated by commas."
   ]
  },
  {
   "cell_type": "code",
   "execution_count": 24,
   "metadata": {},
   "outputs": [
    {
     "name": "stdout",
     "output_type": "stream",
     "text": [
      "['hello', 5.13, 2.5, [1, 2, 3]]\n",
      "<class 'list'>\n"
     ]
    }
   ],
   "source": [
    "list_example = ['hello', 5.13, 2.5, [1,2,3]]\n",
    "print(list_example)\n",
    "print(type(list_example))"
   ]
  },
  {
   "cell_type": "markdown",
   "metadata": {},
   "source": [
    "For python lists, math operators work a little differently than in R (they are not implemented element-wise): "
   ]
  },
  {
   "cell_type": "code",
   "execution_count": 29,
   "metadata": {},
   "outputs": [
    {
     "name": "stdout",
     "output_type": "stream",
     "text": [
      "[1, 2, 3, 7, 8, 3]\n",
      "[1, 2, 3, 1, 2, 3, 1, 2, 3]\n"
     ]
    }
   ],
   "source": [
    "list1 = [1,2,3]\n",
    "list2 = [7,8,3]\n",
    "print(list1 + list2) #adding lists joins them together\n",
    "print(list1*3) #multiplying lists repeats the elements"
   ]
  },
  {
   "cell_type": "markdown",
   "metadata": {},
   "source": [
    "We can index and slice lists using square brackets as follows:  "
   ]
  },
  {
   "cell_type": "code",
   "execution_count": 30,
   "metadata": {},
   "outputs": [
    {
     "name": "stdout",
     "output_type": "stream",
     "text": [
      "hello\n",
      "[1, 2, 3]\n",
      "[1, 2, 3]\n",
      "[5.13, 2.5]\n",
      "['hello', 5.13, 2.5]\n",
      "[2.5, [1, 2, 3]]\n"
     ]
    }
   ],
   "source": [
    "#index starts at 0 and you can use negative indexing\n",
    "print(list_example[0]) #1st element\n",
    "print(list_example[3]) #4th element\n",
    "print(list_example[-1]) #last element\n",
    "\n",
    "#slice syntax is [inclusive:exclusive]\n",
    "print(list_example[1:3]) #prints 2nd and 3rd values \n",
    "print(list_example[:3]) #prints up to the 3rd value\n",
    "print(list_example[2:]) #everything after 2nd value"
   ]
  },
  {
   "cell_type": "markdown",
   "metadata": {},
   "source": [
    "As long as a list only contains one data type, you can sort it using the sorted( ) function:  "
   ]
  },
  {
   "cell_type": "code",
   "execution_count": 69,
   "metadata": {},
   "outputs": [
    {
     "name": "stdout",
     "output_type": "stream",
     "text": [
      "[1, 2, 3, 7, 8, 3]\n",
      "[8, 7, 3, 3, 2, 1]\n"
     ]
    }
   ],
   "source": [
    "#create and print a list\n",
    "list_full = list1 + list2\n",
    "print(list_full)\n",
    "\n",
    "#sort the list in descending order\n",
    "list_sorted = sorted(list_full, reverse = True)\n",
    "\n",
    "#print out sorted list\n",
    "print(list_sorted)"
   ]
  },
  {
   "cell_type": "code",
   "execution_count": 70,
   "metadata": {},
   "outputs": [
    {
     "name": "stdout",
     "output_type": "stream",
     "text": [
      "['apple', 'balloon', 'alpha', 'clover']\n",
      "['clover', 'balloon', 'apple', 'alpha']\n"
     ]
    }
   ],
   "source": [
    "#create and print a word list\n",
    "word_list = [\"apple\", \"balloon\", \"alpha\", \"clover\"]\n",
    "print(word_list)\n",
    "\n",
    "#sort the word list in reverse alphabetical order\n",
    "words_sorted = sorted(word_list, reverse = True)\n",
    "\n",
    "#print out sorted list\n",
    "print(words_sorted)"
   ]
  },
  {
   "cell_type": "markdown",
   "metadata": {},
   "source": [
    "Different types of objects in python have \"methods\" associated with them. Methods are just functions that apply to a specific object type. They are implemented using the following syntax: object_name.method( ).\n",
    "\n",
    "Note that some methods change objects directly, while functions do not. For example:  "
   ]
  },
  {
   "cell_type": "code",
   "execution_count": 71,
   "metadata": {},
   "outputs": [
    {
     "name": "stdout",
     "output_type": "stream",
     "text": [
      "[1, 2, 3, 7, 8, 3]\n",
      "[1, 2, 3, 3, 7, 8]\n",
      "[1, 2, 3, 7, 8, 3]\n",
      "[1, 2, 3, 3, 7, 8]\n"
     ]
    }
   ],
   "source": [
    "#re-print list_full\n",
    "print(list_full)\n",
    "\n",
    "#now, I can print a sorted version of list_full using sorted()\n",
    "print(sorted(list_full))\n",
    "\n",
    "#but that won't change list_full unless I start with \"list_full = \"\n",
    "print(list_full)\n",
    "\n",
    "#but if I apply the .sort( ) method to list_full, it will sort it directly\n",
    "list_full.sort( )\n",
    "print(list_full)"
   ]
  },
  {
   "cell_type": "markdown",
   "metadata": {},
   "source": [
    "Some other examples of methods applied to lists"
   ]
  },
  {
   "cell_type": "code",
   "execution_count": 72,
   "metadata": {},
   "outputs": [
    {
     "name": "stdout",
     "output_type": "stream",
     "text": [
      "[1, 2, 3, 3, 7, 8, 5]\n",
      "2\n",
      "2\n"
     ]
    }
   ],
   "source": [
    "list_full.append(5) #append a 5 to the list\n",
    "print(list_full)\n",
    "print(list_full.index(3)) #get first index of a value\n",
    "print(list_full.count(3)) #count appearances of a value"
   ]
  },
  {
   "cell_type": "markdown",
   "metadata": {},
   "source": [
    "### Indexing Lists  \n",
    "We can use square brackets to index/slice lists. The main difference compared to R is that the index starts at 0 instead of 1"
   ]
  },
  {
   "cell_type": "code",
   "execution_count": 86,
   "metadata": {},
   "outputs": [
    {
     "name": "stdout",
     "output_type": "stream",
     "text": [
      "[1, 2, 3, 3, 7, 8, 5]\n",
      "1\n",
      "3\n",
      "5\n",
      "8\n",
      "[2, 3]\n",
      "[1, 2, 3]\n",
      "[3, 3, 7, 8, 5]\n",
      "[8, 5]\n",
      "[1, 3, 7, 5]\n",
      "[5, 8, 7, 3, 3, 2, 1]\n"
     ]
    }
   ],
   "source": [
    "print(list_full)\n",
    "#index starts at 0 and you can use negative indexing\n",
    "print(list_full[0]) #1st element\n",
    "print(list_full[3]) #4th element\n",
    "print(list_full[-1]) #last element\n",
    "print(list_full[-2]) #second to last element\n",
    "\n",
    "#slicing syntax: [inclusive:exclusive]\n",
    "print(list_full[1:3]) #prints 2nd and 3rd values \n",
    "print(list_full[:3]) #prints up to the 3rd value\n",
    "print(list_full[2:]) #everything after 2nd value\n",
    "print(list_full[-2:]) #last two elements\n",
    "\n",
    "#other tricks\n",
    "print(list_full[::2]) #prints every other element starting at index 0\n",
    "print(list_full[::-1]) #reverses the list"
   ]
  },
  {
   "cell_type": "markdown",
   "metadata": {},
   "source": [
    "### Python Dictionaries  \n",
    "Dictionaries are another data structure in base python. Using pandas, dictionaries can be turned into data frame objects. Dictionaries allow you to have values/attributes associated with some index."
   ]
  },
  {
   "cell_type": "code",
   "execution_count": 92,
   "metadata": {},
   "outputs": [
    {
     "name": "stdout",
     "output_type": "stream",
     "text": [
      "{'The Bronx': 1432132, 'Brooklyn': 2582830, 'Manhattan': 1628701, 'Queens': 2278906, 'Staten Island': 476179}\n"
     ]
    }
   ],
   "source": [
    "#Creating a dictionary\n",
    "nyc_pop = {'The Bronx': 1432132, 'Brooklyn': 2582830, \n",
    "           'Manhattan': 1628701, 'Queens': 2278906,\n",
    "           'Staten Island': 476179}\n",
    "print(nyc_pop)"
   ]
  },
  {
   "cell_type": "code",
   "execution_count": 94,
   "metadata": {},
   "outputs": [
    {
     "name": "stdout",
     "output_type": "stream",
     "text": [
      "{'The Bronx': {'sq_miles': 42, 'population': 1432132}, 'Brooklyn': {'sq_miles': 71, 'population': 2582830}, 'Manhattan': {'sq_miles': 23, 'population': 1628701}, 'Queens': {'sq_miles': 109, 'population': 2278906}, 'Staten Island': {'sq_miles': 58, 'population': 476179}}\n"
     ]
    }
   ],
   "source": [
    "#Dictionary of dictionaries:\n",
    "nyc = { 'The Bronx': { 'sq_miles':42, 'population':1432132 },\n",
    "        'Brooklyn': { 'sq_miles':71, 'population':2582830 },\n",
    "        'Manhattan': { 'sq_miles':23, 'population':1628701 },\n",
    "        'Queens': { 'sq_miles':109, 'population':2278906 },\n",
    "        'Staten Island': { 'sq_miles':58, 'population':476179 }}\n",
    "print(nyc)"
   ]
  },
  {
   "cell_type": "markdown",
   "metadata": {},
   "source": [
    "### Indexing Dictionaries  \n",
    "Information in a dictionary can be accessed by referencing index names as follows:"
   ]
  },
  {
   "cell_type": "code",
   "execution_count": 100,
   "metadata": {},
   "outputs": [
    {
     "name": "stdout",
     "output_type": "stream",
     "text": [
      "1432132\n",
      "{'sq_miles': 42, 'population': 1432132}\n"
     ]
    }
   ],
   "source": [
    "print(nyc_pop['The Bronx'])\n",
    "print(nyc['The Bronx'])"
   ]
  },
  {
   "cell_type": "code",
   "execution_count": 113,
   "metadata": {},
   "outputs": [
    {
     "name": "stdout",
     "output_type": "stream",
     "text": [
      "42\n"
     ]
    }
   ],
   "source": [
    "print(nyc['The Bronx']['sq_miles'])"
   ]
  },
  {
   "cell_type": "markdown",
   "metadata": {},
   "source": [
    "## For Loops and Conditionals\n",
    "Below are some examples of for loops with some helpful syntax!"
   ]
  },
  {
   "cell_type": "code",
   "execution_count": 115,
   "metadata": {},
   "outputs": [
    {
     "name": "stdout",
     "output_type": "stream",
     "text": [
      "0\n",
      "1\n",
      "2\n",
      "3\n",
      "4\n"
     ]
    }
   ],
   "source": [
    "#using range()\n",
    "for i in range(5):\n",
    "    print(i)"
   ]
  },
  {
   "cell_type": "code",
   "execution_count": 117,
   "metadata": {},
   "outputs": [
    {
     "name": "stdout",
     "output_type": "stream",
     "text": [
      "1\n",
      "2\n",
      "3\n",
      "4\n"
     ]
    }
   ],
   "source": [
    "#using continue\n",
    "list_example = [1, 2, \"hello\", 3, 4]\n",
    "for value in list_example:\n",
    "    if value == \"hello\":\n",
    "        continue\n",
    "    print(value)"
   ]
  },
  {
   "cell_type": "code",
   "execution_count": 119,
   "metadata": {},
   "outputs": [
    {
     "name": "stdout",
     "output_type": "stream",
     "text": [
      "1\n",
      "2\n"
     ]
    }
   ],
   "source": [
    "#using break\n",
    "for value in list_example:\n",
    "    if value == \"hello\":\n",
    "        break\n",
    "    print(value)"
   ]
  },
  {
   "cell_type": "code",
   "execution_count": 122,
   "metadata": {},
   "outputs": [
    {
     "name": "stdout",
     "output_type": "stream",
     "text": [
      "(0, 0)\n",
      "(0, 1)\n",
      "(1, 0)\n",
      "(1, 1)\n"
     ]
    }
   ],
   "source": [
    "#nested loops\n",
    "for i in range(2):\n",
    "    for j in range(2):\n",
    "        print((i,j))"
   ]
  },
  {
   "cell_type": "code",
   "execution_count": 142,
   "metadata": {},
   "outputs": [
    {
     "name": "stdout",
     "output_type": "stream",
     "text": [
      "0:1\n",
      "1:2\n",
      "2:hello\n",
      "3:3\n",
      "4:4\n"
     ]
    }
   ],
   "source": [
    "#using enumerate\n",
    "for i, value in enumerate(list_example):\n",
    "    print(str(i) + \":\" + str(value))"
   ]
  },
  {
   "cell_type": "code",
   "execution_count": 150,
   "metadata": {},
   "outputs": [
    {
     "name": "stdout",
     "output_type": "stream",
     "text": [
      "The Bronx\n",
      "Brooklyn\n",
      "Manhattan\n",
      "Queens\n",
      "Staten Island\n"
     ]
    }
   ],
   "source": [
    "#accessing keys in a dictionary (can also use nyc.keys( ))\n",
    "for key in nyc:\n",
    "    print(key)"
   ]
  },
  {
   "cell_type": "code",
   "execution_count": 153,
   "metadata": {},
   "outputs": [
    {
     "name": "stdout",
     "output_type": "stream",
     "text": [
      "1432132\n",
      "2582830\n",
      "1628701\n",
      "2278906\n",
      "476179\n"
     ]
    }
   ],
   "source": [
    "#accessing values in a dictionary\n",
    "for value in nyc_pop.values():\n",
    "    print(value)"
   ]
  },
  {
   "cell_type": "code",
   "execution_count": 158,
   "metadata": {},
   "outputs": [
    {
     "name": "stdout",
     "output_type": "stream",
     "text": [
      "The population of The Bronx is approximately 1432132 people\n",
      "The population of Brooklyn is approximately 2582830 people\n",
      "The population of Manhattan is approximately 1628701 people\n",
      "The population of Queens is approximately 2278906 people\n",
      "The population of Staten Island is approximately 476179 people\n"
     ]
    }
   ],
   "source": [
    "#accessing keys and values in a dictionary\n",
    "for key, value in nyc_pop.items( ):\n",
    "    print(\"The population of\", key, 'is approximately', value, \"people\")"
   ]
  },
  {
   "cell_type": "code",
   "execution_count": 137,
   "metadata": {},
   "outputs": [
    {
     "name": "stdout",
     "output_type": "stream",
     "text": [
      "0:1\n",
      "index 1 is 2\n",
      "index 2 is hello\n",
      "3 is my favorite number!\n",
      "the value at index 4 is 4\n"
     ]
    }
   ],
   "source": [
    "#if/elif/else\n",
    "for i, value in enumerate(list_example):\n",
    "    if i == 0:\n",
    "        print(str(i) + \":\" + str(value))\n",
    "    elif i in [1,2]:\n",
    "        print(\"index \" + str(i) + \" is \" + str(value))\n",
    "    elif i == 4:\n",
    "        print(\"the value at index \" + str(i) + \" is \" + str(value))\n",
    "    else:\n",
    "        print(str(value) + \" is my favorite number!\")"
   ]
  },
  {
   "cell_type": "code",
   "execution_count": 21,
   "metadata": {},
   "outputs": [
    {
     "name": "stdout",
     "output_type": "stream",
     "text": [
      "[0, 3, 6, 9]\n"
     ]
    }
   ],
   "source": [
    "#subsetting within lists\n",
    "list_new = range(10)\n",
    "sub = [i for i in list_new if (i % 3 == 0)]\n",
    "print(sub)"
   ]
  },
  {
   "cell_type": "code",
   "execution_count": 24,
   "metadata": {},
   "outputs": [
    {
     "name": "stdout",
     "output_type": "stream",
     "text": [
      "[0, 0, 0, 0, 1, 1, 1, 1, 1, 1]\n"
     ]
    }
   ],
   "source": [
    "#kind of list ifelse in R:\n",
    "sub2 = [(1 if (value > 3 & value < 7) else 0) for value in list_new]\n",
    "print(sub2)"
   ]
  },
  {
   "cell_type": "markdown",
   "metadata": {},
   "source": [
    "## Defining a Function"
   ]
  },
  {
   "cell_type": "code",
   "execution_count": 169,
   "metadata": {},
   "outputs": [
    {
     "name": "stdout",
     "output_type": "stream",
     "text": [
      "13\n",
      "2\n"
     ]
    }
   ],
   "source": [
    "#create \"fibonnaci\" function with default value of n = 3\n",
    "def fibonnaci(n = 3):\n",
    "    if n == 1 or n == 2:\n",
    "        fib = 1\n",
    "    else:\n",
    "        m2 = 1\n",
    "        m1 = 1\n",
    "        for i in range(n-2):\n",
    "            fib = m2 + m1\n",
    "            m2 = m1\n",
    "            m1 = fib\n",
    "    return fib\n",
    "\n",
    "#use the function\n",
    "print(fibonnaci(7))\n",
    "print(fibonnaci())"
   ]
  },
  {
   "cell_type": "code",
   "execution_count": 171,
   "metadata": {},
   "outputs": [
    {
     "name": "stdout",
     "output_type": "stream",
     "text": [
      "13\n"
     ]
    }
   ],
   "source": [
    "#can also define recursive functions (this does same thing as above)\n",
    "def fib_recursive(n):\n",
    "    if n < 3:\n",
    "        return 1\n",
    "    else:\n",
    "        return fib_recursive(n-1) + fib_recursive(n-2)\n",
    "\n",
    "print(fibonnaci(7))"
   ]
  },
  {
   "cell_type": "code",
   "execution_count": 172,
   "metadata": {},
   "outputs": [
    {
     "name": "stdout",
     "output_type": "stream",
     "text": [
      "20\n",
      "30\n"
     ]
    }
   ],
   "source": [
    "#can return multiple values very easily:\n",
    "def my_function(x):\n",
    "    double_x = x*2\n",
    "    triple_x = x*3\n",
    "    return double_x, triple_x\n",
    "\n",
    "a, b = my_function(10)\n",
    "print(a)\n",
    "print(b)"
   ]
  }
 ],
 "metadata": {
  "kernelspec": {
   "display_name": "Python 3",
   "language": "python",
   "name": "python3"
  },
  "language_info": {
   "codemirror_mode": {
    "name": "ipython",
    "version": 3
   },
   "file_extension": ".py",
   "mimetype": "text/x-python",
   "name": "python",
   "nbconvert_exporter": "python",
   "pygments_lexer": "ipython3",
   "version": "3.7.4"
  }
 },
 "nbformat": 4,
 "nbformat_minor": 2
}
