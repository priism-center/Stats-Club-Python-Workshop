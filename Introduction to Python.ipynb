{
 "cells": [
  {
   "cell_type": "markdown",
   "metadata": {},
   "source": [
    "# Intro to Python"
   ]
  },
  {
   "cell_type": "markdown",
   "metadata": {},
   "source": [
    "## Basic Math Operations \n",
    "Note: To run code in an a cell below, use control, return\n",
    "\n",
    "Also note: Unlike in R, you will need to use print() statements to print output in a Jupyter notebook (only the output from the last line in a given code chunk will print otherwise)"
   ]
  },
  {
   "cell_type": "code",
   "execution_count": 8,
   "metadata": {},
   "outputs": [
    {
     "name": "stdout",
     "output_type": "stream",
     "text": [
      "10\n",
      "0\n",
      "15\n",
      "3.3333333333333335\n",
      "3\n",
      "4\n",
      "16\n"
     ]
    }
   ],
   "source": [
    "print(5 + 5) #addition\n",
    "print(5 - 5) #subtraction\n",
    "print(3 * 5) #multiplication\n",
    "print(10 / 3) #division giving a decimal\n",
    "print(10 // 3) #division giving a rounded down integer\n",
    "print(18 % 7) #modulo\n",
    "print(4 ** 2) #exponentiation"
   ]
  },
  {
   "cell_type": "markdown",
   "metadata": {},
   "source": [
    "## Data Types  \n",
    "Data types are essentially the same as in R. A float is just a decimal. You can assess a variable's type by using the type( ) function"
   ]
  },
  {
   "cell_type": "code",
   "execution_count": 10,
   "metadata": {},
   "outputs": [
    {
     "name": "stdout",
     "output_type": "stream",
     "text": [
      "<class 'float'>\n",
      "<class 'int'>\n",
      "<class 'str'>\n",
      "<class 'bool'>\n"
     ]
    }
   ],
   "source": [
    "#floats, ints, strings, and booleans\n",
    "cost = 3.51\n",
    "amount = 9\n",
    "bottomline = 'your total is $'\n",
    "congrats = ' YAY!'\n",
    "affordable = True\n",
    "\n",
    "print(type(cost))\n",
    "print(type(amount))\n",
    "print(type(bottomline))\n",
    "print(type(affordable))"
   ]
  },
  {
   "cell_type": "markdown",
   "metadata": {},
   "source": [
    "You can also change data types using functions like int( ) bool( ) and float( ):"
   ]
  },
  {
   "cell_type": "code",
   "execution_count": 14,
   "metadata": {},
   "outputs": [
    {
     "name": "stdout",
     "output_type": "stream",
     "text": [
      "<class 'int'>\n"
     ]
    }
   ],
   "source": [
    "cost_integer = int(cost)\n",
    "print(type(cost_integer))"
   ]
  },
  {
   "cell_type": "markdown",
   "metadata": {},
   "source": [
    "Some operations function differently for different types of data. For example, you can add strings in Python, which works much like paste0 in R:"
   ]
  },
  {
   "cell_type": "code",
   "execution_count": 15,
   "metadata": {},
   "outputs": [
    {
     "name": "stdout",
     "output_type": "stream",
     "text": [
      "your total is $31.59 YAY!\n"
     ]
    }
   ],
   "source": [
    "print(bottomline + str(round(cost * amount, 2)) + congrats)"
   ]
  },
  {
   "cell_type": "markdown",
   "metadata": {},
   "source": [
    "## Logical Statements   "
   ]
  },
  {
   "cell_type": "code",
   "execution_count": 36,
   "metadata": {},
   "outputs": [
    {
     "name": "stdout",
     "output_type": "stream",
     "text": [
      "True\n",
      "True\n",
      "False\n",
      "True\n",
      "True\n",
      "True\n"
     ]
    }
   ],
   "source": [
    "print(5 == 5) #check if two numbers are equal\n",
    "print(7 > 5) #check if 7 is greater than 5\n",
    "print(7 < 5) #check if 7 is less than 5\n",
    "print(7 != 5) #check if 7 is not equal to 5\n",
    "print((7 > 5) and (7 < 10)) #check if 7>5 and 7<10\n",
    "print((3 > 5) or (3 < 10)) #check if 3>5 or 3<10"
   ]
  },
  {
   "cell_type": "code",
   "execution_count": 37,
   "metadata": {},
   "outputs": [
    {
     "name": "stdout",
     "output_type": "stream",
     "text": [
      "True\n",
      "True\n",
      "False\n",
      "True\n"
     ]
    }
   ],
   "source": [
    "#Also works for strings!\n",
    "print(\"hello\" == \"hello\") #check if two strings are the same\n",
    "print(\"hello\" > \"goodbye\") #comparison is based on alphabetical order\n",
    "print(\"hello\" < \"goodbye\")\n",
    "print(\"hello\" != \"goodbye\") #check if two strings are not equal"
   ]
  },
  {
   "cell_type": "markdown",
   "metadata": {},
   "source": [
    "## Built in Data Structures   "
   ]
  },
  {
   "cell_type": "markdown",
   "metadata": {},
   "source": [
    "One important thing to know about Python (different from R): When you give a variable name to a data structure, that name points to a container with data in it (it does not contain the data directly). \n",
    "\n",
    "If you set two variable names equal to each other, then you are telling Python that you want those names to point toward the same container. Thus, changing the contents of the container (via either variable name) will change both variables. For example: "
   ]
  },
  {
   "cell_type": "code",
   "execution_count": 110,
   "metadata": {},
   "outputs": [
    {
     "name": "stdout",
     "output_type": "stream",
     "text": [
      "[7, 3, 2]\n",
      "[7, 3, 2]\n"
     ]
    }
   ],
   "source": [
    "# set a = 5\n",
    "a = [5,3,2]\n",
    "\n",
    "# set b = a, which means \"b\" now points to the same place as \"a\"\n",
    "b = a\n",
    "\n",
    "# change the value of the first element of \"a\" to 7\n",
    "a[0] = 7\n",
    "\n",
    "# note that the first element of \"b\" is now also changed to 7\n",
    "print(a)\n",
    "print(b)"
   ]
  },
  {
   "cell_type": "markdown",
   "metadata": {},
   "source": [
    "You can check if two names point to the same object using \"is\" or \"is not\""
   ]
  },
  {
   "cell_type": "code",
   "execution_count": 111,
   "metadata": {},
   "outputs": [
    {
     "name": "stdout",
     "output_type": "stream",
     "text": [
      "True\n"
     ]
    }
   ],
   "source": [
    "print(a is b)"
   ]
  },
  {
   "cell_type": "code",
   "execution_count": 108,
   "metadata": {},
   "outputs": [
    {
     "name": "stdout",
     "output_type": "stream",
     "text": [
      "[7, 3, 2]\n",
      "[7, 3, 2]\n",
      "False\n"
     ]
    }
   ],
   "source": [
    "#make b into a copy of a, so they are no longer referencing\n",
    "#the same object, even though they are still equal\n",
    "b = a.copy()  \n",
    "print(a)\n",
    "print(b)\n",
    "print(a is b)"
   ]
  },
  {
   "cell_type": "markdown",
   "metadata": {},
   "source": [
    "### Python Lists\n",
    "\n",
    "Python lists are probably the most used data structure in base Python. They look and operate much like vectors in R; however, like R lists, they can contain multiple different data types. Python lists are defined using square brackets and elements separated by commas."
   ]
  },
  {
   "cell_type": "code",
   "execution_count": 24,
   "metadata": {},
   "outputs": [
    {
     "name": "stdout",
     "output_type": "stream",
     "text": [
      "['hello', 5.13, 2.5, [1, 2, 3]]\n",
      "<class 'list'>\n"
     ]
    }
   ],
   "source": [
    "list_example = ['hello', 5.13, 2.5, [1,2,3]]\n",
    "print(list_example)\n",
    "print(type(list_example))"
   ]
  },
  {
   "cell_type": "markdown",
   "metadata": {},
   "source": [
    "For python lists, math operators work a little differently than in R (they are not implemented element-wise): "
   ]
  },
  {
   "cell_type": "code",
   "execution_count": 29,
   "metadata": {},
   "outputs": [
    {
     "name": "stdout",
     "output_type": "stream",
     "text": [
      "[1, 2, 3, 7, 8, 3]\n",
      "[1, 2, 3, 1, 2, 3, 1, 2, 3]\n"
     ]
    }
   ],
   "source": [
    "list1 = [1,2,3]\n",
    "list2 = [7,8,3]\n",
    "print(list1 + list2) #adding lists joins them together\n",
    "print(list1*3) #multiplying lists repeats the elements"
   ]
  },
  {
   "cell_type": "markdown",
   "metadata": {},
   "source": [
    "We can index and slice lists using square brackets as follows:  "
   ]
  },
  {
   "cell_type": "code",
   "execution_count": 30,
   "metadata": {},
   "outputs": [
    {
     "name": "stdout",
     "output_type": "stream",
     "text": [
      "hello\n",
      "[1, 2, 3]\n",
      "[1, 2, 3]\n",
      "[5.13, 2.5]\n",
      "['hello', 5.13, 2.5]\n",
      "[2.5, [1, 2, 3]]\n"
     ]
    }
   ],
   "source": [
    "#index starts at 0 and you can use negative indexing\n",
    "print(list_example[0]) #1st element\n",
    "print(list_example[3]) #4th element\n",
    "print(list_example[-1]) #last element\n",
    "\n",
    "#slice syntax is [inclusive:exclusive]\n",
    "print(list_example[1:3]) #prints 2nd and 3rd values \n",
    "print(list_example[:3]) #prints up to the 3rd value\n",
    "print(list_example[2:]) #everything after 2nd value"
   ]
  },
  {
   "cell_type": "markdown",
   "metadata": {},
   "source": [
    "As long as a list only contains one data type, you can sort it using the sorted( ) function:  "
   ]
  },
  {
   "cell_type": "code",
   "execution_count": 69,
   "metadata": {},
   "outputs": [
    {
     "name": "stdout",
     "output_type": "stream",
     "text": [
      "[1, 2, 3, 7, 8, 3]\n",
      "[8, 7, 3, 3, 2, 1]\n"
     ]
    }
   ],
   "source": [
    "#create and print a list\n",
    "list_full = list1 + list2\n",
    "print(list_full)\n",
    "\n",
    "#sort the list in descending order\n",
    "list_sorted = sorted(list_full, reverse = True)\n",
    "\n",
    "#print out sorted list\n",
    "print(list_sorted)"
   ]
  },
  {
   "cell_type": "code",
   "execution_count": 70,
   "metadata": {},
   "outputs": [
    {
     "name": "stdout",
     "output_type": "stream",
     "text": [
      "['apple', 'balloon', 'alpha', 'clover']\n",
      "['clover', 'balloon', 'apple', 'alpha']\n"
     ]
    }
   ],
   "source": [
    "#create and print a word list\n",
    "word_list = [\"apple\", \"balloon\", \"alpha\", \"clover\"]\n",
    "print(word_list)\n",
    "\n",
    "#sort the word list in reverse alphabetical order\n",
    "words_sorted = sorted(word_list, reverse = True)\n",
    "\n",
    "#print out sorted list\n",
    "print(words_sorted)"
   ]
  },
  {
   "cell_type": "markdown",
   "metadata": {},
   "source": [
    "Different types of objects in python have \"methods\" associated with them. Methods are just functions that apply to a specific object type. They are implemented using the following syntax: object_name.method( ).\n",
    "\n",
    "Note that some methods change objects directly, while functions do not. For example:  "
   ]
  },
  {
   "cell_type": "code",
   "execution_count": 71,
   "metadata": {},
   "outputs": [
    {
     "name": "stdout",
     "output_type": "stream",
     "text": [
      "[1, 2, 3, 7, 8, 3]\n",
      "[1, 2, 3, 3, 7, 8]\n",
      "[1, 2, 3, 7, 8, 3]\n",
      "[1, 2, 3, 3, 7, 8]\n"
     ]
    }
   ],
   "source": [
    "#re-print list_full\n",
    "print(list_full)\n",
    "\n",
    "#now, I can print a sorted version of list_full using sorted()\n",
    "print(sorted(list_full))\n",
    "\n",
    "#but that won't change list_full unless I start with \"list_full = \"\n",
    "print(list_full)\n",
    "\n",
    "#but if I apply the .sort( ) method to list_full, it will sort it directly\n",
    "list_full.sort( )\n",
    "print(list_full)"
   ]
  },
  {
   "cell_type": "markdown",
   "metadata": {},
   "source": [
    "Some other examples of methods applied to lists"
   ]
  },
  {
   "cell_type": "code",
   "execution_count": 72,
   "metadata": {},
   "outputs": [
    {
     "name": "stdout",
     "output_type": "stream",
     "text": [
      "[1, 2, 3, 3, 7, 8, 5]\n",
      "2\n",
      "2\n"
     ]
    }
   ],
   "source": [
    "list_full.append(5) #append a 5 to the list\n",
    "print(list_full)\n",
    "print(list_full.index(3)) #get first index of a value\n",
    "print(list_full.count(3)) #count appearances of a value"
   ]
  },
  {
   "cell_type": "markdown",
   "metadata": {},
   "source": [
    "### Indexing Lists  \n",
    "We can use square brackets to index/slice lists. The main difference compared to R is that the index starts at 0 instead of 1"
   ]
  },
  {
   "cell_type": "code",
   "execution_count": 86,
   "metadata": {},
   "outputs": [
    {
     "name": "stdout",
     "output_type": "stream",
     "text": [
      "[1, 2, 3, 3, 7, 8, 5]\n",
      "1\n",
      "3\n",
      "5\n",
      "8\n",
      "[2, 3]\n",
      "[1, 2, 3]\n",
      "[3, 3, 7, 8, 5]\n",
      "[8, 5]\n",
      "[1, 3, 7, 5]\n",
      "[5, 8, 7, 3, 3, 2, 1]\n"
     ]
    }
   ],
   "source": [
    "print(list_full)\n",
    "#index starts at 0 and you can use negative indexing\n",
    "print(list_full[0]) #1st element\n",
    "print(list_full[3]) #4th element\n",
    "print(list_full[-1]) #last element\n",
    "print(list_full[-2]) #second to last element\n",
    "\n",
    "#slicing syntax: [inclusive:exclusive]\n",
    "print(list_full[1:3]) #prints 2nd and 3rd values \n",
    "print(list_full[:3]) #prints up to the 3rd value\n",
    "print(list_full[2:]) #everything after 2nd value\n",
    "print(list_full[-2:]) #last two elements\n",
    "\n",
    "#other tricks\n",
    "print(list_full[::2]) #prints every other element starting at index 0\n",
    "print(list_full[::-1]) #reverses the list"
   ]
  },
  {
   "cell_type": "markdown",
   "metadata": {},
   "source": [
    "### Python Dictionaries  \n",
    "Dictionaries are another data structure in base python. Using pandas, dictionaries can be turned into data frame objects. Dictionaries allow you to have values/attributes associated with some index."
   ]
  },
  {
   "cell_type": "code",
   "execution_count": 92,
   "metadata": {},
   "outputs": [
    {
     "name": "stdout",
     "output_type": "stream",
     "text": [
      "{'The Bronx': 1432132, 'Brooklyn': 2582830, 'Manhattan': 1628701, 'Queens': 2278906, 'Staten Island': 476179}\n"
     ]
    }
   ],
   "source": [
    "#Creating a dictionary\n",
    "nyc_pop = {'The Bronx': 1432132, 'Brooklyn': 2582830, \n",
    "           'Manhattan': 1628701, 'Queens': 2278906,\n",
    "           'Staten Island': 476179}\n",
    "print(nyc_pop)"
   ]
  },
  {
   "cell_type": "code",
   "execution_count": 94,
   "metadata": {},
   "outputs": [
    {
     "name": "stdout",
     "output_type": "stream",
     "text": [
      "{'The Bronx': {'sq_miles': 42, 'population': 1432132}, 'Brooklyn': {'sq_miles': 71, 'population': 2582830}, 'Manhattan': {'sq_miles': 23, 'population': 1628701}, 'Queens': {'sq_miles': 109, 'population': 2278906}, 'Staten Island': {'sq_miles': 58, 'population': 476179}}\n"
     ]
    }
   ],
   "source": [
    "#Dictionary of dictionaries:\n",
    "nyc = { 'The Bronx': { 'sq_miles':42, 'population':1432132 },\n",
    "        'Brooklyn': { 'sq_miles':71, 'population':2582830 },\n",
    "        'Manhattan': { 'sq_miles':23, 'population':1628701 },\n",
    "        'Queens': { 'sq_miles':109, 'population':2278906 },\n",
    "        'Staten Island': { 'sq_miles':58, 'population':476179 }}\n",
    "print(nyc)"
   ]
  },
  {
   "cell_type": "markdown",
   "metadata": {},
   "source": [
    "### Indexing Dictionaries  \n",
    "Information in a dictionary can be accessed by referencing index names as follows:"
   ]
  },
  {
   "cell_type": "code",
   "execution_count": 100,
   "metadata": {},
   "outputs": [
    {
     "name": "stdout",
     "output_type": "stream",
     "text": [
      "1432132\n",
      "{'sq_miles': 42, 'population': 1432132}\n"
     ]
    }
   ],
   "source": [
    "print(nyc_pop['The Bronx'])\n",
    "print(nyc['The Bronx'])"
   ]
  },
  {
   "cell_type": "code",
   "execution_count": 113,
   "metadata": {},
   "outputs": [
    {
     "name": "stdout",
     "output_type": "stream",
     "text": [
      "42\n"
     ]
    }
   ],
   "source": [
    "print(nyc['The Bronx']['sq_miles'])"
   ]
  },
  {
   "cell_type": "markdown",
   "metadata": {},
   "source": [
    "## For Loops and Conditionals\n",
    "Below are some examples of for loops with some helpful syntax!"
   ]
  },
  {
   "cell_type": "code",
   "execution_count": 115,
   "metadata": {},
   "outputs": [
    {
     "name": "stdout",
     "output_type": "stream",
     "text": [
      "0\n",
      "1\n",
      "2\n",
      "3\n",
      "4\n"
     ]
    }
   ],
   "source": [
    "#using range()\n",
    "for i in range(5):\n",
    "    print(i)"
   ]
  },
  {
   "cell_type": "code",
   "execution_count": 117,
   "metadata": {},
   "outputs": [
    {
     "name": "stdout",
     "output_type": "stream",
     "text": [
      "1\n",
      "2\n",
      "3\n",
      "4\n"
     ]
    }
   ],
   "source": [
    "#using continue\n",
    "list_example = [1, 2, \"hello\", 3, 4]\n",
    "for value in list_example:\n",
    "    if value == \"hello\":\n",
    "        continue\n",
    "    print(value)"
   ]
  },
  {
   "cell_type": "code",
   "execution_count": 119,
   "metadata": {},
   "outputs": [
    {
     "name": "stdout",
     "output_type": "stream",
     "text": [
      "1\n",
      "2\n"
     ]
    }
   ],
   "source": [
    "#using break\n",
    "for value in list_example:\n",
    "    if value == \"hello\":\n",
    "        break\n",
    "    print(value)"
   ]
  },
  {
   "cell_type": "code",
   "execution_count": 122,
   "metadata": {},
   "outputs": [
    {
     "name": "stdout",
     "output_type": "stream",
     "text": [
      "(0, 0)\n",
      "(0, 1)\n",
      "(1, 0)\n",
      "(1, 1)\n"
     ]
    }
   ],
   "source": [
    "#nested loops\n",
    "for i in range(2):\n",
    "    for j in range(2):\n",
    "        print((i,j))"
   ]
  },
  {
   "cell_type": "code",
   "execution_count": 142,
   "metadata": {},
   "outputs": [
    {
     "name": "stdout",
     "output_type": "stream",
     "text": [
      "0:1\n",
      "1:2\n",
      "2:hello\n",
      "3:3\n",
      "4:4\n"
     ]
    }
   ],
   "source": [
    "#using enumerate\n",
    "for i, value in enumerate(list_example):\n",
    "    print(str(i) + \":\" + str(value))"
   ]
  },
  {
   "cell_type": "code",
   "execution_count": 150,
   "metadata": {},
   "outputs": [
    {
     "name": "stdout",
     "output_type": "stream",
     "text": [
      "The Bronx\n",
      "Brooklyn\n",
      "Manhattan\n",
      "Queens\n",
      "Staten Island\n"
     ]
    }
   ],
   "source": [
    "#accessing keys in a dictionary (can also use nyc.keys( ))\n",
    "for key in nyc:\n",
    "    print(key)"
   ]
  },
  {
   "cell_type": "code",
   "execution_count": 153,
   "metadata": {},
   "outputs": [
    {
     "name": "stdout",
     "output_type": "stream",
     "text": [
      "1432132\n",
      "2582830\n",
      "1628701\n",
      "2278906\n",
      "476179\n"
     ]
    }
   ],
   "source": [
    "#accessing values in a dictionary\n",
    "for value in nyc_pop.values():\n",
    "    print(value)"
   ]
  },
  {
   "cell_type": "code",
   "execution_count": 158,
   "metadata": {},
   "outputs": [
    {
     "name": "stdout",
     "output_type": "stream",
     "text": [
      "The population of The Bronx is approximately 1432132 people\n",
      "The population of Brooklyn is approximately 2582830 people\n",
      "The population of Manhattan is approximately 1628701 people\n",
      "The population of Queens is approximately 2278906 people\n",
      "The population of Staten Island is approximately 476179 people\n"
     ]
    }
   ],
   "source": [
    "#accessing keys and values in a dictionary\n",
    "for key, value in nyc_pop.items( ):\n",
    "    print(\"The population of\", key, 'is approximately', value, \"people\")"
   ]
  },
  {
   "cell_type": "code",
   "execution_count": 137,
   "metadata": {},
   "outputs": [
    {
     "name": "stdout",
     "output_type": "stream",
     "text": [
      "0:1\n",
      "index 1 is 2\n",
      "index 2 is hello\n",
      "3 is my favorite number!\n",
      "the value at index 4 is 4\n"
     ]
    }
   ],
   "source": [
    "#if/elif/else\n",
    "for i, value in enumerate(list_example):\n",
    "    if i == 0:\n",
    "        print(str(i) + \":\" + str(value))\n",
    "    elif i in [1,2]:\n",
    "        print(\"index \" + str(i) + \" is \" + str(value))\n",
    "    elif i == 4:\n",
    "        print(\"the value at index \" + str(i) + \" is \" + str(value))\n",
    "    else:\n",
    "        print(str(value) + \" is my favorite number!\")"
   ]
  },
  {
   "cell_type": "code",
   "execution_count": 141,
   "metadata": {},
   "outputs": [
    {
     "name": "stdout",
     "output_type": "stream",
     "text": [
      "[0, 3, 6, 9]\n"
     ]
    }
   ],
   "source": [
    "#subsetting within lists\n",
    "list_new = range(10)\n",
    "sub = [i for i in list_new if (i % 3 == 0)]\n",
    "print(sub)"
   ]
  },
  {
   "cell_type": "markdown",
   "metadata": {},
   "source": [
    "## Defining a Function"
   ]
  },
  {
   "cell_type": "code",
   "execution_count": null,
   "metadata": {},
   "outputs": [],
   "source": []
  }
 ],
 "metadata": {
  "kernelspec": {
   "display_name": "Python 3",
   "language": "python",
   "name": "python3"
  },
  "language_info": {
   "codemirror_mode": {
    "name": "ipython",
    "version": 3
   },
   "file_extension": ".py",
   "mimetype": "text/x-python",
   "name": "python",
   "nbconvert_exporter": "python",
   "pygments_lexer": "ipython3",
   "version": "3.7.4"
  }
 },
 "nbformat": 4,
 "nbformat_minor": 2
}
