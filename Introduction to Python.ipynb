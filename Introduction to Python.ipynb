{
 "cells": [
  {
   "cell_type": "markdown",
   "metadata": {},
   "source": [
    "# Intro to Python"
   ]
  },
  {
   "cell_type": "markdown",
   "metadata": {},
   "source": [
    "## As a calculator  \n",
    "Note: To run code in an a cell below, use control, return\n",
    "\n",
    "Also note: Unlike in R, you will need to use print() statements to print output in a Jupyter notebook (only the output from the last line in a given code chunk will print otherwise)"
   ]
  },
  {
   "cell_type": "code",
   "execution_count": 1,
   "metadata": {},
   "outputs": [
    {
     "name": "stdout",
     "output_type": "stream",
     "text": [
      "10\n",
      "0\n",
      "15\n",
      "3.3333333333333335\n",
      "3\n",
      "4\n",
      "16\n"
     ]
    }
   ],
   "source": [
    "print(5 + 5) #addition\n",
    "print(5 - 5) #subtraction\n",
    "print(3 * 5) #multiplication\n",
    "print(10 / 3) #division giving a decimal\n",
    "print(10 // 3) #division giving a rounded down integer\n",
    "print(18 % 7) #modulo\n",
    "print(4 ** 2) #exponentiation"
   ]
  },
  {
   "cell_type": "code",
   "execution_count": 6,
   "metadata": {},
   "outputs": [
    {
     "data": {
      "text/plain": [
       "1"
      ]
     },
     "execution_count": 6,
     "metadata": {},
     "output_type": "execute_result"
    }
   ],
   "source": []
  },
  {
   "cell_type": "code",
   "execution_count": null,
   "metadata": {},
   "outputs": [],
   "source": []
  }
 ],
 "metadata": {
  "kernelspec": {
   "display_name": "Python 3",
   "language": "python",
   "name": "python3"
  },
  "language_info": {
   "codemirror_mode": {
    "name": "ipython",
    "version": 3
   },
   "file_extension": ".py",
   "mimetype": "text/x-python",
   "name": "python",
   "nbconvert_exporter": "python",
   "pygments_lexer": "ipython3",
   "version": "3.7.4"
  }
 },
 "nbformat": 4,
 "nbformat_minor": 2
}
