{
 "cells": [
  {
   "cell_type": "markdown",
   "metadata": {},
   "source": [
    "# Intro to Python"
   ]
  },
  {
   "cell_type": "markdown",
   "metadata": {},
   "source": [
    "## Basic Math Operations \n",
    "Note: To run code in an a cell below, use control, return\n",
    "\n",
    "Also note: Unlike in R, you will need to use print() statements to print output in a Jupyter notebook (only the output from the last line in a given code chunk will print otherwise)"
   ]
  },
  {
   "cell_type": "code",
   "execution_count": 8,
   "metadata": {},
   "outputs": [
    {
     "name": "stdout",
     "output_type": "stream",
     "text": [
      "10\n",
      "0\n",
      "15\n",
      "3.3333333333333335\n",
      "3\n",
      "4\n",
      "16\n"
     ]
    }
   ],
   "source": [
    "print(5 + 5) #addition\n",
    "print(5 - 5) #subtraction\n",
    "print(3 * 5) #multiplication\n",
    "print(10 / 3) #division giving a decimal\n",
    "print(10 // 3) #division giving a rounded down integer\n",
    "print(18 % 7) #modulo\n",
    "print(4 ** 2) #exponentiation"
   ]
  },
  {
   "cell_type": "markdown",
   "metadata": {},
   "source": [
    "## Data Types  \n",
    "Data types are essentially the same as in R. A float is just a decimal. You can assess a variable's type by using the type() function"
   ]
  },
  {
   "cell_type": "code",
   "execution_count": 10,
   "metadata": {},
   "outputs": [
    {
     "name": "stdout",
     "output_type": "stream",
     "text": [
      "<class 'float'>\n",
      "<class 'int'>\n",
      "<class 'str'>\n",
      "<class 'bool'>\n"
     ]
    }
   ],
   "source": [
    "#floats, ints, strings, and booleans\n",
    "cost = 3.51\n",
    "amount = 9\n",
    "bottomline = 'your total is $'\n",
    "congrats = ' YAY!'\n",
    "affordable = True\n",
    "\n",
    "print(type(cost))\n",
    "print(type(amount))\n",
    "print(type(bottomline))\n",
    "print(type(affordable))"
   ]
  },
  {
   "cell_type": "markdown",
   "metadata": {},
   "source": [
    "You can also change data types using functions like int() bool() and float():"
   ]
  },
  {
   "cell_type": "code",
   "execution_count": 14,
   "metadata": {},
   "outputs": [
    {
     "name": "stdout",
     "output_type": "stream",
     "text": [
      "<class 'int'>\n"
     ]
    }
   ],
   "source": [
    "cost_integer = int(cost)\n",
    "print(type(cost_integer))"
   ]
  },
  {
   "cell_type": "markdown",
   "metadata": {},
   "source": [
    "Some operations function differently for different types of data. For example, you can add strings in Python, which works much like paste0 in R:"
   ]
  },
  {
   "cell_type": "code",
   "execution_count": 15,
   "metadata": {},
   "outputs": [
    {
     "name": "stdout",
     "output_type": "stream",
     "text": [
      "your total is $31.59 YAY!\n"
     ]
    }
   ],
   "source": [
    "print(bottomline + str(round(cost * amount, 2)) + congrats)"
   ]
  }
 ],
 "metadata": {
  "kernelspec": {
   "display_name": "Python 3",
   "language": "python",
   "name": "python3"
  },
  "language_info": {
   "codemirror_mode": {
    "name": "ipython",
    "version": 3
   },
   "file_extension": ".py",
   "mimetype": "text/x-python",
   "name": "python",
   "nbconvert_exporter": "python",
   "pygments_lexer": "ipython3",
   "version": "3.7.4"
  }
 },
 "nbformat": 4,
 "nbformat_minor": 2
}
