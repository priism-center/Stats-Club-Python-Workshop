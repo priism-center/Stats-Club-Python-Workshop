{
 "cells": [
  {
   "cell_type": "code",
   "execution_count": 1,
   "metadata": {},
   "outputs": [],
   "source": [
    "#Load all the libraries you may need!\n",
    "import pandas as pd\n",
    "import numpy as np\n",
    "import matplotlib.pyplot as plt\n",
    "import patsy\n",
    "import statsmodels.api as sm\n",
    "import statsmodels.formula.api as smf\n",
    "\n",
    "#graphics printed in-line\n",
    "%matplotlib inline"
   ]
  },
  {
   "cell_type": "markdown",
   "metadata": {},
   "source": [
    "## Problem 1"
   ]
  },
  {
   "cell_type": "markdown",
   "metadata": {},
   "source": [
    "1. Write a function called even_odd that takes in an integer and returns \"even\" if the value is even and \"odd\" if the value is odd. Test your function on at least one even and one odd number. "
   ]
  },
  {
   "cell_type": "markdown",
   "metadata": {},
   "source": [
    "## Problem 2"
   ]
  },
  {
   "cell_type": "markdown",
   "metadata": {},
   "source": [
    "1. Write a function called \"rollDie\" that randomly rolls n dice (n is the input). The function should output a list of all the dice rolls. Hint: look up the function numpy.random.randint( ).  \n",
    "\n",
    "2. Then, use this function in a for-loop to roll 2 die 100 times and record the sum of the rolls each time (record the sums in a python list called \"dice\"). Hint: you can initialize an empty list using dice = \\[ \\] and then use .append() to append values to the list. Or, you can use range(100) to initialize a list of length 100 and then change the values in dice inside the for-loop by referencing the ith location of the list.  \n",
    "\n",
    "3. Print a histogram of the resulting \"dice\" list. Add a title and axis labels to make it look nice.  \n",
    "\n",
    "4. Print the number of times that the sum of the die rolls was greater than 4 and less than 10.  \n",
    "\n",
    "5. Create a new vector called \"wins_and_losses\" that is equal to 1 for every value in \"dice\" that is greater than 8, and 0 otherwise.  \n",
    "\n",
    "6. Print the first 10 values of both \"wins_and_losses\" and \"dice\" to make sure your code worked.  \n",
    "\n",
    "7. Print the probability of a \"win\" (you win this game if the sum of your dice is greater than 8). \n"
   ]
  },
  {
   "cell_type": "markdown",
   "metadata": {},
   "source": [
    "## Problem 3"
   ]
  },
  {
   "cell_type": "markdown",
   "metadata": {},
   "source": [
    "1. Load the run10.csv file and save it as a pandas DataFrame object called \"run10\". Print the first 5 rows of the data  \n",
    "\n",
    "2. Print average finishing times (variable \"time\") grouped by gender. \n",
    "\n",
    "3. Create a scatter plot of time (y axis) vs age (x axis), color coded by gender. Include a legend.  \n",
    "\n",
    "4. Run a linear regression: time = age + gender + age*gender and print the results (optional: add the regression lines to your plot from 3). "
   ]
  },
  {
   "cell_type": "code",
   "execution_count": null,
   "metadata": {},
   "outputs": [],
   "source": [
    "\n",
    " \n",
    "    \n",
    "    \n",
    "    \n"
   ]
  },
  {
   "cell_type": "markdown",
   "metadata": {},
   "source": [
    "# Answers  "
   ]
  },
  {
   "cell_type": "markdown",
   "metadata": {},
   "source": [
    "## 1 "
   ]
  },
  {
   "cell_type": "code",
   "execution_count": 6,
   "metadata": {},
   "outputs": [
    {
     "name": "stdout",
     "output_type": "stream",
     "text": [
      "odd\n",
      "even\n"
     ]
    }
   ],
   "source": [
    "def even_odd(N):\n",
    "    if(N % 2 == 0):\n",
    "        return \"even\"\n",
    "    else:\n",
    "        return \"odd\"\n",
    "    \n",
    "print(even_odd(3))\n",
    "print(even_odd(4))"
   ]
  },
  {
   "cell_type": "markdown",
   "metadata": {},
   "source": [
    "## 2"
   ]
  },
  {
   "cell_type": "code",
   "execution_count": 21,
   "metadata": {},
   "outputs": [],
   "source": [
    "def rollDie(n):\n",
    "    return np.random.randint(1,7,size=n)\n",
    "\n",
    "np.random.seed(123)\n",
    "\n",
    "dice = []\n",
    "\n",
    "for i in range(100):\n",
    "    dice.append(rollDie(2).sum( ))"
   ]
  },
  {
   "cell_type": "code",
   "execution_count": 24,
   "metadata": {},
   "outputs": [
    {
     "data": {
      "text/plain": [
       "Text(0.5, 1.0, 'Histogram of the Sum of 2 Die')"
      ]
     },
     "execution_count": 24,
     "metadata": {},
     "output_type": "execute_result"
    },
    {
     "data": {
      "image/png": "[encoded data removed]",
      "text/plain": [
       "<Figure size 432x288 with 1 Axes>"
      ]
     },
     "metadata": {
      "needs_background": "light"
     },
     "output_type": "display_data"
    }
   ],
   "source": [
    "plt.hist(dice, bins=20)\n",
    "plt.ylabel('Frequency')\n",
    "plt.xlabel('Sum of 2 Die')\n",
    "plt.title(\"Histogram of the Sum of 2 Die\")"
   ]
  },
  {
   "cell_type": "code",
   "execution_count": 47,
   "metadata": {},
   "outputs": [
    {
     "name": "stdout",
     "output_type": "stream",
     "text": [
      "71\n",
      "71\n"
     ]
    }
   ],
   "source": [
    "#greater than 4 and less than 10\n",
    "print(len([i for i in dice if (i > 4 and i < 10)]))\n",
    "\n",
    "#or, using a numpy array\n",
    "dice_numpy = np.array(dice)\n",
    "print(((dice_numpy > 4) & (dice_numpy < 10)).sum())"
   ]
  },
  {
   "cell_type": "code",
   "execution_count": 74,
   "metadata": {},
   "outputs": [
    {
     "name": "stdout",
     "output_type": "stream",
     "text": [
      "[1, 0, 0, 0, 0]\n",
      "[1 0 0 0 0]\n"
     ]
    }
   ],
   "source": [
    "wins_and_losses = [(1 if value > 8 else 0) for value in dice]\n",
    "print(wins_and_losses[0:5])\n",
    "\n",
    "#or using numpy arrays\n",
    "wins_and_losses2 = np.array([0]*100)\n",
    "wins_and_losses2[dice_numpy > 8] = 1\n",
    "print(wins_and_losses2[0:5])"
   ]
  },
  {
   "cell_type": "code",
   "execution_count": 76,
   "metadata": {},
   "outputs": [
    {
     "name": "stdout",
     "output_type": "stream",
     "text": [
      "[9, 8, 6, 7, 4, 3, 3, 3, 10, 6]\n",
      "[1, 0, 0, 0, 0, 0, 0, 0, 1, 0]\n"
     ]
    }
   ],
   "source": [
    "print(dice[0:10])\n",
    "print(wins_and_losses[0:10])"
   ]
  },
  {
   "cell_type": "code",
   "execution_count": 81,
   "metadata": {},
   "outputs": [
    {
     "name": "stdout",
     "output_type": "stream",
     "text": [
      "0.24\n",
      "0.24\n"
     ]
    }
   ],
   "source": [
    "#with lists\n",
    "print(sum(wins_and_losses)/100)\n",
    "\n",
    "#with numpy arrays\n",
    "print(wins_and_losses2.sum()/100)"
   ]
  },
  {
   "cell_type": "markdown",
   "metadata": {},
   "source": [
    "## 3"
   ]
  },
  {
   "cell_type": "code",
   "execution_count": 83,
   "metadata": {},
   "outputs": [],
   "source": [
    "run10 = pd.read_csv('run10.csv')"
   ]
  },
  {
   "cell_type": "code",
   "execution_count": 85,
   "metadata": {},
   "outputs": [
    {
     "data": {
      "text/html": [
       "<div>\n",
       "<style scoped>\n",
       "    .dataframe tbody tr th:only-of-type {\n",
       "        vertical-align: middle;\n",
       "    }\n",
       "\n",
       "    .dataframe tbody tr th {\n",
       "        vertical-align: top;\n",
       "    }\n",
       "\n",
       "    .dataframe thead th {\n",
       "        text-align: right;\n",
       "    }\n",
       "</style>\n",
       "<table border=\"1\" class=\"dataframe\">\n",
       "  <thead>\n",
       "    <tr style=\"text-align: right;\">\n",
       "      <th></th>\n",
       "      <th>time</th>\n",
       "      <th>age</th>\n",
       "      <th>gender</th>\n",
       "      <th>state</th>\n",
       "    </tr>\n",
       "  </thead>\n",
       "  <tbody>\n",
       "    <tr>\n",
       "      <td>0</td>\n",
       "      <td>88.31</td>\n",
       "      <td>59</td>\n",
       "      <td>M</td>\n",
       "      <td>MD</td>\n",
       "    </tr>\n",
       "    <tr>\n",
       "      <td>1</td>\n",
       "      <td>100.67</td>\n",
       "      <td>32</td>\n",
       "      <td>M</td>\n",
       "      <td>VA</td>\n",
       "    </tr>\n",
       "    <tr>\n",
       "      <td>2</td>\n",
       "      <td>109.52</td>\n",
       "      <td>33</td>\n",
       "      <td>F</td>\n",
       "      <td>VA</td>\n",
       "    </tr>\n",
       "    <tr>\n",
       "      <td>3</td>\n",
       "      <td>87.11</td>\n",
       "      <td>52</td>\n",
       "      <td>M</td>\n",
       "      <td>PA</td>\n",
       "    </tr>\n",
       "    <tr>\n",
       "      <td>4</td>\n",
       "      <td>73.02</td>\n",
       "      <td>40</td>\n",
       "      <td>M</td>\n",
       "      <td>DC</td>\n",
       "    </tr>\n",
       "  </tbody>\n",
       "</table>\n",
       "</div>"
      ],
      "text/plain": [
       "     time  age gender state\n",
       "0   88.31   59      M    MD\n",
       "1  100.67   32      M    VA\n",
       "2  109.52   33      F    VA\n",
       "3   87.11   52      M    PA\n",
       "4   73.02   40      M    DC"
      ]
     },
     "execution_count": 85,
     "metadata": {},
     "output_type": "execute_result"
    }
   ],
   "source": [
    "run10.head()"
   ]
  },
  {
   "cell_type": "code",
   "execution_count": 87,
   "metadata": {},
   "outputs": [
    {
     "data": {
      "text/html": [
       "<div>\n",
       "<style scoped>\n",
       "    .dataframe tbody tr th:only-of-type {\n",
       "        vertical-align: middle;\n",
       "    }\n",
       "\n",
       "    .dataframe tbody tr th {\n",
       "        vertical-align: top;\n",
       "    }\n",
       "\n",
       "    .dataframe thead th {\n",
       "        text-align: right;\n",
       "    }\n",
       "</style>\n",
       "<table border=\"1\" class=\"dataframe\">\n",
       "  <thead>\n",
       "    <tr style=\"text-align: right;\">\n",
       "      <th></th>\n",
       "      <th>time</th>\n",
       "    </tr>\n",
       "    <tr>\n",
       "      <th>gender</th>\n",
       "      <th></th>\n",
       "    </tr>\n",
       "  </thead>\n",
       "  <tbody>\n",
       "    <tr>\n",
       "      <td>F</td>\n",
       "      <td>102.134909</td>\n",
       "    </tr>\n",
       "    <tr>\n",
       "      <td>M</td>\n",
       "      <td>87.645333</td>\n",
       "    </tr>\n",
       "  </tbody>\n",
       "</table>\n",
       "</div>"
      ],
      "text/plain": [
       "              time\n",
       "gender            \n",
       "F       102.134909\n",
       "M        87.645333"
      ]
     },
     "execution_count": 87,
     "metadata": {},
     "output_type": "execute_result"
    }
   ],
   "source": [
    "run10.loc[:,('gender','time')].groupby('gender').mean()"
   ]
  },
  {
   "cell_type": "code",
   "execution_count": 95,
   "metadata": {},
   "outputs": [
    {
     "data": {
      "text/plain": [
       "<matplotlib.legend.Legend at 0x1c1f024690>"
      ]
     },
     "execution_count": 95,
     "metadata": {},
     "output_type": "execute_result"
    },
    {
     "data": {
      "image/png": "[encoded data removed]",
      "text/plain": [
       "<Figure size 432x288 with 1 Axes>"
      ]
     },
     "metadata": {
      "needs_background": "light"
     },
     "output_type": "display_data"
    }
   ],
   "source": [
    "genders = list(set(run10['gender']))\n",
    "colors = [\"blue\", \"aqua\"]\n",
    "for i, gender in enumerate(genders): \n",
    "    data = run10[(run10.gender == gender)]\n",
    "    plt.scatter(data['age'], data['time'], color = colors[i])\n",
    "plt.ylabel('Finishing Time')\n",
    "plt.xlabel('Age')\n",
    "plt.title(\"Finishing Time Vs. Age\")\n",
    "plt.legend(genders, loc='lower right')"
   ]
  },
  {
   "cell_type": "code",
   "execution_count": 97,
   "metadata": {},
   "outputs": [
    {
     "name": "stdout",
     "output_type": "stream",
     "text": [
      "                            OLS Regression Results                            \n",
      "==============================================================================\n",
      "Dep. Variable:                   time   R-squared:                       0.224\n",
      "Model:                            OLS   Adj. R-squared:                  0.199\n",
      "Method:                 Least Squares   F-statistic:                     9.223\n",
      "Date:                Mon, 30 Mar 2020   Prob (F-statistic):           2.03e-05\n",
      "Time:                        17:41:54   Log-Likelihood:                -404.58\n",
      "No. Observations:                 100   AIC:                             817.2\n",
      "Df Residuals:                      96   BIC:                             827.6\n",
      "Df Model:                           3                                         \n",
      "Covariance Type:            nonrobust                                         \n",
      "===================================================================================\n",
      "                      coef    std err          t      P>|t|      [0.025      0.975]\n",
      "-----------------------------------------------------------------------------------\n",
      "Intercept         110.9581      7.654     14.497      0.000      95.765     126.151\n",
      "gender[T.M]       -19.7203     11.715     -1.683      0.096     -42.975       3.534\n",
      "age                -0.2622      0.220     -1.190      0.237      -0.699       0.175\n",
      "age:gender[T.M]     0.1644      0.322      0.511      0.610      -0.474       0.803\n",
      "==============================================================================\n",
      "Omnibus:                        0.540   Durbin-Watson:                   1.898\n",
      "Prob(Omnibus):                  0.763   Jarque-Bera (JB):                0.189\n",
      "Skew:                           0.056   Prob(JB):                        0.910\n",
      "Kurtosis:                       3.181   Cond. No.                         379.\n",
      "==============================================================================\n",
      "\n",
      "Warnings:\n",
      "[1] Standard Errors assume that the covariance matrix of the errors is correctly specified.\n"
     ]
    }
   ],
   "source": [
    "y, X = patsy.dmatrices('time ~ age + gender + age:gender', run10)\n",
    "model = sm.OLS(y,X)\n",
    "results = model.fit()\n",
    "print(results.summary())"
   ]
  },
  {
   "cell_type": "code",
   "execution_count": 98,
   "metadata": {},
   "outputs": [
    {
     "data": {
      "text/plain": [
       "<matplotlib.legend.Legend at 0x1c1f0d6150>"
      ]
     },
     "execution_count": 98,
     "metadata": {},
     "output_type": "execute_result"
    },
    {
     "data": {
      "image/png": "[encoded data removed]",
      "text/plain": [
       "<Figure size 432x288 with 1 Axes>"
      ]
     },
     "metadata": {
      "needs_background": "light"
     },
     "output_type": "display_data"
    }
   ],
   "source": [
    "minmage = min(run10[\"age\"])\n",
    "maxmage = max(run10[\"age\"])\n",
    "xs = np.linspace(minmage, maxmage, 1000)\n",
    "\n",
    "genders = list(set(run10['gender']))\n",
    "colors = [\"blue\", \"aqua\"]\n",
    "for i, gender in enumerate(genders): \n",
    "    data = run10[(run10.gender == gender)]\n",
    "    plt.scatter(data['age'], data['time'], color = colors[i])\n",
    "plt.plot(xs, \n",
    "         results.params[0]+results.params[2]*xs, \n",
    "         color='blue',\n",
    "         linewidth=5)\n",
    "plt.plot(xs, \n",
    "         results.params[0:2].sum()+results.params[2:4].sum()*xs, \n",
    "         color='aqua',\n",
    "         linewidth=5)\n",
    "plt.ylabel('Finishing Time')\n",
    "plt.xlabel('Age')\n",
    "plt.title(\"Finishing Time Vs. Age\")\n",
    "plt.legend(genders, loc='lower right')"
   ]
  }
 ],
 "metadata": {
  "kernelspec": {
   "display_name": "Python 3",
   "language": "python",
   "name": "python3"
  },
  "language_info": {
   "codemirror_mode": {
    "name": "ipython",
    "version": 3
   },
   "file_extension": ".py",
   "mimetype": "text/x-python",
   "name": "python",
   "nbconvert_exporter": "python",
   "pygments_lexer": "ipython3",
   "version": "3.7.4"
  }
 },
 "nbformat": 4,
 "nbformat_minor": 2
}
