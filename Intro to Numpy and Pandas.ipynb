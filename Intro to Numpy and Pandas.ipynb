{
 "cells": [
  {
   "cell_type": "markdown",
   "metadata": {},
   "source": [
    "### Pandas DataFrame\n",
    "\n",
    "You can create a data frame in Pandas using a dictionary object as follows:  "
   ]
  },
  {
   "cell_type": "code",
   "execution_count": 2,
   "metadata": {},
   "outputs": [],
   "source": [
    "#First, load pandas as \"pd\"\n",
    "import pandas as pd"
   ]
  },
  {
   "cell_type": "code",
   "execution_count": 3,
   "metadata": {},
   "outputs": [
    {
     "name": "stdout",
     "output_type": "stream",
     "text": [
      "         borough      pop  sq_miles\n",
      "0      The Bronx  1432132        42\n",
      "1       Brooklyn  2582830        71\n",
      "2      Manhattan  1628701        23\n",
      "3         Queens  2278906       109\n",
      "4  Staten Island   476179        58\n"
     ]
    }
   ],
   "source": [
    "borough = ['The Bronx', 'Brooklyn', 'Manhattan', 'Queens', 'Staten Island']\n",
    "population =  [1432132, 2582830, 1628701, 2278906, 476179]\n",
    "sq_miles = [42, 71, 23, 109, 58]\n",
    "dict = { 'borough':borough, 'pop':population, 'sq_miles':sq_miles }\n",
    "nyc = pd.DataFrame(dict)\n",
    "print(nyc)"
   ]
  }
 ],
 "metadata": {
  "kernelspec": {
   "display_name": "Python 3",
   "language": "python",
   "name": "python3"
  },
  "language_info": {
   "codemirror_mode": {
    "name": "ipython",
    "version": 3
   },
   "file_extension": ".py",
   "mimetype": "text/x-python",
   "name": "python",
   "nbconvert_exporter": "python",
   "pygments_lexer": "ipython3",
   "version": "3.7.4"
  }
 },
 "nbformat": 4,
 "nbformat_minor": 2
}
